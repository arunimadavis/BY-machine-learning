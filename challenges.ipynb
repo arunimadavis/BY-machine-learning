{
 "cells": [
  {
   "cell_type": "code",
   "execution_count": 1,
   "id": "1bbd45d6",
   "metadata": {},
   "outputs": [],
   "source": [
    "import numpy as np\n",
    "import pandas as pd\n",
    "import seaborn as sns"
   ]
  },
  {
   "cell_type": "code",
   "execution_count": 2,
   "id": "40152206",
   "metadata": {},
   "outputs": [],
   "source": [
    "movie=pd.read_csv('Movie_collection.csv')"
   ]
  },
  {
   "cell_type": "code",
   "execution_count": 3,
   "id": "b8e971bb",
   "metadata": {},
   "outputs": [
    {
     "data": {
      "text/html": [
       "<div>\n",
       "<style scoped>\n",
       "    .dataframe tbody tr th:only-of-type {\n",
       "        vertical-align: middle;\n",
       "    }\n",
       "\n",
       "    .dataframe tbody tr th {\n",
       "        vertical-align: top;\n",
       "    }\n",
       "\n",
       "    .dataframe thead th {\n",
       "        text-align: right;\n",
       "    }\n",
       "</style>\n",
       "<table border=\"1\" class=\"dataframe\">\n",
       "  <thead>\n",
       "    <tr style=\"text-align: right;\">\n",
       "      <th></th>\n",
       "      <th>Collection</th>\n",
       "      <th>Marketing expense</th>\n",
       "      <th>Production expense</th>\n",
       "      <th>Multiplex coverage</th>\n",
       "      <th>Budget</th>\n",
       "      <th>Movie_length</th>\n",
       "      <th>Lead_ Actor_Rating</th>\n",
       "      <th>Lead_Actress_rating</th>\n",
       "      <th>Director_rating</th>\n",
       "      <th>Producer_rating</th>\n",
       "      <th>Critic_rating</th>\n",
       "      <th>Trailer_views</th>\n",
       "      <th>3D_available</th>\n",
       "      <th>Time_taken</th>\n",
       "      <th>Twitter_hastags</th>\n",
       "      <th>Genre</th>\n",
       "      <th>Avg_age_actors</th>\n",
       "      <th>MPAA_film_rating</th>\n",
       "      <th>Num_multiplex</th>\n",
       "      <th>Start_Tech_Oscar</th>\n",
       "    </tr>\n",
       "  </thead>\n",
       "  <tbody>\n",
       "    <tr>\n",
       "      <th>0</th>\n",
       "      <td>48000</td>\n",
       "      <td>20.1264</td>\n",
       "      <td>59.62</td>\n",
       "      <td>0.462</td>\n",
       "      <td>36524.125</td>\n",
       "      <td>138.7</td>\n",
       "      <td>7.825</td>\n",
       "      <td>8.095</td>\n",
       "      <td>7.910</td>\n",
       "      <td>7.995</td>\n",
       "      <td>7.94</td>\n",
       "      <td>527367</td>\n",
       "      <td>YES</td>\n",
       "      <td>109.60</td>\n",
       "      <td>223.840</td>\n",
       "      <td>Thriller</td>\n",
       "      <td>23</td>\n",
       "      <td>PG</td>\n",
       "      <td>494</td>\n",
       "      <td>0</td>\n",
       "    </tr>\n",
       "    <tr>\n",
       "      <th>1</th>\n",
       "      <td>43200</td>\n",
       "      <td>20.5462</td>\n",
       "      <td>69.14</td>\n",
       "      <td>0.531</td>\n",
       "      <td>35668.655</td>\n",
       "      <td>152.4</td>\n",
       "      <td>7.505</td>\n",
       "      <td>7.650</td>\n",
       "      <td>7.440</td>\n",
       "      <td>7.470</td>\n",
       "      <td>7.44</td>\n",
       "      <td>494055</td>\n",
       "      <td>NO</td>\n",
       "      <td>146.64</td>\n",
       "      <td>243.456</td>\n",
       "      <td>Drama</td>\n",
       "      <td>42</td>\n",
       "      <td>PG</td>\n",
       "      <td>462</td>\n",
       "      <td>1</td>\n",
       "    </tr>\n",
       "    <tr>\n",
       "      <th>2</th>\n",
       "      <td>69400</td>\n",
       "      <td>20.5458</td>\n",
       "      <td>69.14</td>\n",
       "      <td>0.531</td>\n",
       "      <td>39912.675</td>\n",
       "      <td>134.6</td>\n",
       "      <td>7.485</td>\n",
       "      <td>7.570</td>\n",
       "      <td>7.495</td>\n",
       "      <td>7.515</td>\n",
       "      <td>7.44</td>\n",
       "      <td>547051</td>\n",
       "      <td>NO</td>\n",
       "      <td>147.88</td>\n",
       "      <td>2022.400</td>\n",
       "      <td>Comedy</td>\n",
       "      <td>38</td>\n",
       "      <td>PG</td>\n",
       "      <td>458</td>\n",
       "      <td>0</td>\n",
       "    </tr>\n",
       "    <tr>\n",
       "      <th>3</th>\n",
       "      <td>66800</td>\n",
       "      <td>20.6474</td>\n",
       "      <td>59.36</td>\n",
       "      <td>0.542</td>\n",
       "      <td>38873.890</td>\n",
       "      <td>119.3</td>\n",
       "      <td>6.895</td>\n",
       "      <td>7.035</td>\n",
       "      <td>6.920</td>\n",
       "      <td>7.020</td>\n",
       "      <td>8.26</td>\n",
       "      <td>516279</td>\n",
       "      <td>YES</td>\n",
       "      <td>185.36</td>\n",
       "      <td>225.344</td>\n",
       "      <td>Drama</td>\n",
       "      <td>45</td>\n",
       "      <td>PG</td>\n",
       "      <td>472</td>\n",
       "      <td>0</td>\n",
       "    </tr>\n",
       "    <tr>\n",
       "      <th>4</th>\n",
       "      <td>72400</td>\n",
       "      <td>21.3810</td>\n",
       "      <td>59.36</td>\n",
       "      <td>0.542</td>\n",
       "      <td>39701.585</td>\n",
       "      <td>127.7</td>\n",
       "      <td>6.920</td>\n",
       "      <td>7.070</td>\n",
       "      <td>6.815</td>\n",
       "      <td>7.070</td>\n",
       "      <td>8.26</td>\n",
       "      <td>531448</td>\n",
       "      <td>NO</td>\n",
       "      <td>176.48</td>\n",
       "      <td>225.792</td>\n",
       "      <td>Drama</td>\n",
       "      <td>55</td>\n",
       "      <td>PG</td>\n",
       "      <td>395</td>\n",
       "      <td>0</td>\n",
       "    </tr>\n",
       "    <tr>\n",
       "      <th>...</th>\n",
       "      <td>...</td>\n",
       "      <td>...</td>\n",
       "      <td>...</td>\n",
       "      <td>...</td>\n",
       "      <td>...</td>\n",
       "      <td>...</td>\n",
       "      <td>...</td>\n",
       "      <td>...</td>\n",
       "      <td>...</td>\n",
       "      <td>...</td>\n",
       "      <td>...</td>\n",
       "      <td>...</td>\n",
       "      <td>...</td>\n",
       "      <td>...</td>\n",
       "      <td>...</td>\n",
       "      <td>...</td>\n",
       "      <td>...</td>\n",
       "      <td>...</td>\n",
       "      <td>...</td>\n",
       "      <td>...</td>\n",
       "    </tr>\n",
       "    <tr>\n",
       "      <th>501</th>\n",
       "      <td>44800</td>\n",
       "      <td>21.2526</td>\n",
       "      <td>78.86</td>\n",
       "      <td>0.427</td>\n",
       "      <td>36624.115</td>\n",
       "      <td>142.6</td>\n",
       "      <td>8.680</td>\n",
       "      <td>8.775</td>\n",
       "      <td>8.620</td>\n",
       "      <td>8.970</td>\n",
       "      <td>6.80</td>\n",
       "      <td>492480</td>\n",
       "      <td>NO</td>\n",
       "      <td>186.96</td>\n",
       "      <td>243.584</td>\n",
       "      <td>Action</td>\n",
       "      <td>27</td>\n",
       "      <td>PG</td>\n",
       "      <td>561</td>\n",
       "      <td>1</td>\n",
       "    </tr>\n",
       "    <tr>\n",
       "      <th>502</th>\n",
       "      <td>41200</td>\n",
       "      <td>20.9054</td>\n",
       "      <td>78.86</td>\n",
       "      <td>0.427</td>\n",
       "      <td>33996.600</td>\n",
       "      <td>150.2</td>\n",
       "      <td>8.780</td>\n",
       "      <td>8.945</td>\n",
       "      <td>8.770</td>\n",
       "      <td>8.930</td>\n",
       "      <td>7.80</td>\n",
       "      <td>482875</td>\n",
       "      <td>YES</td>\n",
       "      <td>132.24</td>\n",
       "      <td>263.296</td>\n",
       "      <td>Action</td>\n",
       "      <td>20</td>\n",
       "      <td>PG</td>\n",
       "      <td>600</td>\n",
       "      <td>1</td>\n",
       "    </tr>\n",
       "    <tr>\n",
       "      <th>503</th>\n",
       "      <td>47800</td>\n",
       "      <td>21.2152</td>\n",
       "      <td>78.86</td>\n",
       "      <td>0.427</td>\n",
       "      <td>38751.680</td>\n",
       "      <td>164.5</td>\n",
       "      <td>8.830</td>\n",
       "      <td>8.970</td>\n",
       "      <td>8.855</td>\n",
       "      <td>9.010</td>\n",
       "      <td>7.80</td>\n",
       "      <td>532239</td>\n",
       "      <td>NO</td>\n",
       "      <td>109.56</td>\n",
       "      <td>243.824</td>\n",
       "      <td>Comedy</td>\n",
       "      <td>31</td>\n",
       "      <td>PG</td>\n",
       "      <td>576</td>\n",
       "      <td>1</td>\n",
       "    </tr>\n",
       "    <tr>\n",
       "      <th>504</th>\n",
       "      <td>44000</td>\n",
       "      <td>22.1918</td>\n",
       "      <td>78.86</td>\n",
       "      <td>0.427</td>\n",
       "      <td>37740.670</td>\n",
       "      <td>162.8</td>\n",
       "      <td>8.730</td>\n",
       "      <td>8.845</td>\n",
       "      <td>8.800</td>\n",
       "      <td>8.845</td>\n",
       "      <td>6.80</td>\n",
       "      <td>496077</td>\n",
       "      <td>YES</td>\n",
       "      <td>158.80</td>\n",
       "      <td>303.520</td>\n",
       "      <td>Comedy</td>\n",
       "      <td>47</td>\n",
       "      <td>PG</td>\n",
       "      <td>607</td>\n",
       "      <td>1</td>\n",
       "    </tr>\n",
       "    <tr>\n",
       "      <th>505</th>\n",
       "      <td>38000</td>\n",
       "      <td>20.9482</td>\n",
       "      <td>78.86</td>\n",
       "      <td>0.427</td>\n",
       "      <td>33496.650</td>\n",
       "      <td>154.3</td>\n",
       "      <td>8.640</td>\n",
       "      <td>8.880</td>\n",
       "      <td>8.680</td>\n",
       "      <td>8.790</td>\n",
       "      <td>6.80</td>\n",
       "      <td>518438</td>\n",
       "      <td>YES</td>\n",
       "      <td>205.60</td>\n",
       "      <td>203.040</td>\n",
       "      <td>Comedy</td>\n",
       "      <td>45</td>\n",
       "      <td>PG</td>\n",
       "      <td>604</td>\n",
       "      <td>1</td>\n",
       "    </tr>\n",
       "  </tbody>\n",
       "</table>\n",
       "<p>506 rows × 20 columns</p>\n",
       "</div>"
      ],
      "text/plain": [
       "     Collection  Marketing expense  Production expense  Multiplex coverage  \\\n",
       "0         48000            20.1264               59.62               0.462   \n",
       "1         43200            20.5462               69.14               0.531   \n",
       "2         69400            20.5458               69.14               0.531   \n",
       "3         66800            20.6474               59.36               0.542   \n",
       "4         72400            21.3810               59.36               0.542   \n",
       "..          ...                ...                 ...                 ...   \n",
       "501       44800            21.2526               78.86               0.427   \n",
       "502       41200            20.9054               78.86               0.427   \n",
       "503       47800            21.2152               78.86               0.427   \n",
       "504       44000            22.1918               78.86               0.427   \n",
       "505       38000            20.9482               78.86               0.427   \n",
       "\n",
       "        Budget  Movie_length  Lead_ Actor_Rating  Lead_Actress_rating  \\\n",
       "0    36524.125         138.7               7.825                8.095   \n",
       "1    35668.655         152.4               7.505                7.650   \n",
       "2    39912.675         134.6               7.485                7.570   \n",
       "3    38873.890         119.3               6.895                7.035   \n",
       "4    39701.585         127.7               6.920                7.070   \n",
       "..         ...           ...                 ...                  ...   \n",
       "501  36624.115         142.6               8.680                8.775   \n",
       "502  33996.600         150.2               8.780                8.945   \n",
       "503  38751.680         164.5               8.830                8.970   \n",
       "504  37740.670         162.8               8.730                8.845   \n",
       "505  33496.650         154.3               8.640                8.880   \n",
       "\n",
       "     Director_rating  Producer_rating  Critic_rating  Trailer_views  \\\n",
       "0              7.910            7.995           7.94         527367   \n",
       "1              7.440            7.470           7.44         494055   \n",
       "2              7.495            7.515           7.44         547051   \n",
       "3              6.920            7.020           8.26         516279   \n",
       "4              6.815            7.070           8.26         531448   \n",
       "..               ...              ...            ...            ...   \n",
       "501            8.620            8.970           6.80         492480   \n",
       "502            8.770            8.930           7.80         482875   \n",
       "503            8.855            9.010           7.80         532239   \n",
       "504            8.800            8.845           6.80         496077   \n",
       "505            8.680            8.790           6.80         518438   \n",
       "\n",
       "    3D_available  Time_taken  Twitter_hastags     Genre  Avg_age_actors  \\\n",
       "0            YES      109.60          223.840  Thriller              23   \n",
       "1             NO      146.64          243.456     Drama              42   \n",
       "2             NO      147.88         2022.400    Comedy              38   \n",
       "3            YES      185.36          225.344     Drama              45   \n",
       "4             NO      176.48          225.792     Drama              55   \n",
       "..           ...         ...              ...       ...             ...   \n",
       "501           NO      186.96          243.584    Action              27   \n",
       "502          YES      132.24          263.296    Action              20   \n",
       "503           NO      109.56          243.824    Comedy              31   \n",
       "504          YES      158.80          303.520    Comedy              47   \n",
       "505          YES      205.60          203.040    Comedy              45   \n",
       "\n",
       "    MPAA_film_rating  Num_multiplex  Start_Tech_Oscar  \n",
       "0                 PG            494                 0  \n",
       "1                 PG            462                 1  \n",
       "2                 PG            458                 0  \n",
       "3                 PG            472                 0  \n",
       "4                 PG            395                 0  \n",
       "..               ...            ...               ...  \n",
       "501               PG            561                 1  \n",
       "502               PG            600                 1  \n",
       "503               PG            576                 1  \n",
       "504               PG            607                 1  \n",
       "505               PG            604                 1  \n",
       "\n",
       "[506 rows x 20 columns]"
      ]
     },
     "execution_count": 3,
     "metadata": {},
     "output_type": "execute_result"
    }
   ],
   "source": [
    "movie"
   ]
  },
  {
   "cell_type": "code",
   "execution_count": 4,
   "id": "3c82ae8e",
   "metadata": {},
   "outputs": [
    {
     "data": {
      "text/plain": [
       "(506, 20)"
      ]
     },
     "execution_count": 4,
     "metadata": {},
     "output_type": "execute_result"
    }
   ],
   "source": [
    "movie.shape"
   ]
  },
  {
   "cell_type": "code",
   "execution_count": 5,
   "id": "2d931d27",
   "metadata": {},
   "outputs": [
    {
     "data": {
      "text/html": [
       "<div>\n",
       "<style scoped>\n",
       "    .dataframe tbody tr th:only-of-type {\n",
       "        vertical-align: middle;\n",
       "    }\n",
       "\n",
       "    .dataframe tbody tr th {\n",
       "        vertical-align: top;\n",
       "    }\n",
       "\n",
       "    .dataframe thead th {\n",
       "        text-align: right;\n",
       "    }\n",
       "</style>\n",
       "<table border=\"1\" class=\"dataframe\">\n",
       "  <thead>\n",
       "    <tr style=\"text-align: right;\">\n",
       "      <th></th>\n",
       "      <th>Collection</th>\n",
       "      <th>Marketing expense</th>\n",
       "      <th>Production expense</th>\n",
       "      <th>Multiplex coverage</th>\n",
       "      <th>Budget</th>\n",
       "      <th>Movie_length</th>\n",
       "      <th>Lead_ Actor_Rating</th>\n",
       "      <th>Lead_Actress_rating</th>\n",
       "      <th>Director_rating</th>\n",
       "      <th>Producer_rating</th>\n",
       "      <th>Critic_rating</th>\n",
       "      <th>Trailer_views</th>\n",
       "      <th>Time_taken</th>\n",
       "      <th>Twitter_hastags</th>\n",
       "      <th>Avg_age_actors</th>\n",
       "      <th>Num_multiplex</th>\n",
       "      <th>Start_Tech_Oscar</th>\n",
       "    </tr>\n",
       "  </thead>\n",
       "  <tbody>\n",
       "    <tr>\n",
       "      <th>count</th>\n",
       "      <td>506.000000</td>\n",
       "      <td>506.000000</td>\n",
       "      <td>506.000000</td>\n",
       "      <td>506.000000</td>\n",
       "      <td>506.000000</td>\n",
       "      <td>506.000000</td>\n",
       "      <td>506.000000</td>\n",
       "      <td>506.000000</td>\n",
       "      <td>506.000000</td>\n",
       "      <td>506.000000</td>\n",
       "      <td>506.000000</td>\n",
       "      <td>506.000000</td>\n",
       "      <td>494.000000</td>\n",
       "      <td>506.000000</td>\n",
       "      <td>506.000000</td>\n",
       "      <td>506.000000</td>\n",
       "      <td>506.000000</td>\n",
       "    </tr>\n",
       "    <tr>\n",
       "      <th>mean</th>\n",
       "      <td>45057.707510</td>\n",
       "      <td>92.270471</td>\n",
       "      <td>77.273557</td>\n",
       "      <td>0.445305</td>\n",
       "      <td>34911.144022</td>\n",
       "      <td>142.074901</td>\n",
       "      <td>8.014002</td>\n",
       "      <td>8.185613</td>\n",
       "      <td>8.019664</td>\n",
       "      <td>8.190514</td>\n",
       "      <td>7.810870</td>\n",
       "      <td>449860.715415</td>\n",
       "      <td>157.391498</td>\n",
       "      <td>260.832095</td>\n",
       "      <td>39.181818</td>\n",
       "      <td>545.043478</td>\n",
       "      <td>0.454545</td>\n",
       "    </tr>\n",
       "    <tr>\n",
       "      <th>std</th>\n",
       "      <td>18364.351764</td>\n",
       "      <td>172.030902</td>\n",
       "      <td>13.720706</td>\n",
       "      <td>0.115878</td>\n",
       "      <td>3903.038232</td>\n",
       "      <td>28.148861</td>\n",
       "      <td>1.054266</td>\n",
       "      <td>1.054290</td>\n",
       "      <td>1.059899</td>\n",
       "      <td>1.049601</td>\n",
       "      <td>0.659699</td>\n",
       "      <td>68917.763145</td>\n",
       "      <td>31.295161</td>\n",
       "      <td>104.779133</td>\n",
       "      <td>12.513697</td>\n",
       "      <td>106.332889</td>\n",
       "      <td>0.498422</td>\n",
       "    </tr>\n",
       "    <tr>\n",
       "      <th>min</th>\n",
       "      <td>10000.000000</td>\n",
       "      <td>20.126400</td>\n",
       "      <td>55.920000</td>\n",
       "      <td>0.129000</td>\n",
       "      <td>19781.355000</td>\n",
       "      <td>76.400000</td>\n",
       "      <td>3.840000</td>\n",
       "      <td>4.035000</td>\n",
       "      <td>3.840000</td>\n",
       "      <td>4.030000</td>\n",
       "      <td>6.600000</td>\n",
       "      <td>212912.000000</td>\n",
       "      <td>0.000000</td>\n",
       "      <td>201.152000</td>\n",
       "      <td>3.000000</td>\n",
       "      <td>333.000000</td>\n",
       "      <td>0.000000</td>\n",
       "    </tr>\n",
       "    <tr>\n",
       "      <th>25%</th>\n",
       "      <td>34050.000000</td>\n",
       "      <td>21.640900</td>\n",
       "      <td>65.380000</td>\n",
       "      <td>0.376000</td>\n",
       "      <td>32693.952500</td>\n",
       "      <td>118.525000</td>\n",
       "      <td>7.316250</td>\n",
       "      <td>7.503750</td>\n",
       "      <td>7.296250</td>\n",
       "      <td>7.507500</td>\n",
       "      <td>7.200000</td>\n",
       "      <td>409128.000000</td>\n",
       "      <td>132.300000</td>\n",
       "      <td>223.796000</td>\n",
       "      <td>28.000000</td>\n",
       "      <td>465.000000</td>\n",
       "      <td>0.000000</td>\n",
       "    </tr>\n",
       "    <tr>\n",
       "      <th>50%</th>\n",
       "      <td>42400.000000</td>\n",
       "      <td>25.130200</td>\n",
       "      <td>74.380000</td>\n",
       "      <td>0.462000</td>\n",
       "      <td>34488.217500</td>\n",
       "      <td>151.000000</td>\n",
       "      <td>8.307500</td>\n",
       "      <td>8.495000</td>\n",
       "      <td>8.312500</td>\n",
       "      <td>8.465000</td>\n",
       "      <td>7.960000</td>\n",
       "      <td>462460.000000</td>\n",
       "      <td>160.000000</td>\n",
       "      <td>254.400000</td>\n",
       "      <td>39.000000</td>\n",
       "      <td>535.500000</td>\n",
       "      <td>0.000000</td>\n",
       "    </tr>\n",
       "    <tr>\n",
       "      <th>75%</th>\n",
       "      <td>50000.000000</td>\n",
       "      <td>93.541650</td>\n",
       "      <td>91.200000</td>\n",
       "      <td>0.551000</td>\n",
       "      <td>36793.542500</td>\n",
       "      <td>167.575000</td>\n",
       "      <td>8.865000</td>\n",
       "      <td>9.030000</td>\n",
       "      <td>8.883750</td>\n",
       "      <td>9.030000</td>\n",
       "      <td>8.260000</td>\n",
       "      <td>500247.500000</td>\n",
       "      <td>181.890000</td>\n",
       "      <td>283.416000</td>\n",
       "      <td>50.000000</td>\n",
       "      <td>614.750000</td>\n",
       "      <td>1.000000</td>\n",
       "    </tr>\n",
       "    <tr>\n",
       "      <th>max</th>\n",
       "      <td>100000.000000</td>\n",
       "      <td>1799.524000</td>\n",
       "      <td>110.480000</td>\n",
       "      <td>0.615000</td>\n",
       "      <td>48772.900000</td>\n",
       "      <td>173.500000</td>\n",
       "      <td>9.435000</td>\n",
       "      <td>9.540000</td>\n",
       "      <td>9.425000</td>\n",
       "      <td>9.635000</td>\n",
       "      <td>9.400000</td>\n",
       "      <td>567784.000000</td>\n",
       "      <td>217.520000</td>\n",
       "      <td>2022.400000</td>\n",
       "      <td>60.000000</td>\n",
       "      <td>868.000000</td>\n",
       "      <td>1.000000</td>\n",
       "    </tr>\n",
       "  </tbody>\n",
       "</table>\n",
       "</div>"
      ],
      "text/plain": [
       "          Collection  Marketing expense  Production expense  \\\n",
       "count     506.000000         506.000000          506.000000   \n",
       "mean    45057.707510          92.270471           77.273557   \n",
       "std     18364.351764         172.030902           13.720706   \n",
       "min     10000.000000          20.126400           55.920000   \n",
       "25%     34050.000000          21.640900           65.380000   \n",
       "50%     42400.000000          25.130200           74.380000   \n",
       "75%     50000.000000          93.541650           91.200000   \n",
       "max    100000.000000        1799.524000          110.480000   \n",
       "\n",
       "       Multiplex coverage        Budget  Movie_length  Lead_ Actor_Rating  \\\n",
       "count          506.000000    506.000000    506.000000          506.000000   \n",
       "mean             0.445305  34911.144022    142.074901            8.014002   \n",
       "std              0.115878   3903.038232     28.148861            1.054266   \n",
       "min              0.129000  19781.355000     76.400000            3.840000   \n",
       "25%              0.376000  32693.952500    118.525000            7.316250   \n",
       "50%              0.462000  34488.217500    151.000000            8.307500   \n",
       "75%              0.551000  36793.542500    167.575000            8.865000   \n",
       "max              0.615000  48772.900000    173.500000            9.435000   \n",
       "\n",
       "       Lead_Actress_rating  Director_rating  Producer_rating  Critic_rating  \\\n",
       "count           506.000000       506.000000       506.000000     506.000000   \n",
       "mean              8.185613         8.019664         8.190514       7.810870   \n",
       "std               1.054290         1.059899         1.049601       0.659699   \n",
       "min               4.035000         3.840000         4.030000       6.600000   \n",
       "25%               7.503750         7.296250         7.507500       7.200000   \n",
       "50%               8.495000         8.312500         8.465000       7.960000   \n",
       "75%               9.030000         8.883750         9.030000       8.260000   \n",
       "max               9.540000         9.425000         9.635000       9.400000   \n",
       "\n",
       "       Trailer_views  Time_taken  Twitter_hastags  Avg_age_actors  \\\n",
       "count     506.000000  494.000000       506.000000      506.000000   \n",
       "mean   449860.715415  157.391498       260.832095       39.181818   \n",
       "std     68917.763145   31.295161       104.779133       12.513697   \n",
       "min    212912.000000    0.000000       201.152000        3.000000   \n",
       "25%    409128.000000  132.300000       223.796000       28.000000   \n",
       "50%    462460.000000  160.000000       254.400000       39.000000   \n",
       "75%    500247.500000  181.890000       283.416000       50.000000   \n",
       "max    567784.000000  217.520000      2022.400000       60.000000   \n",
       "\n",
       "       Num_multiplex  Start_Tech_Oscar  \n",
       "count     506.000000        506.000000  \n",
       "mean      545.043478          0.454545  \n",
       "std       106.332889          0.498422  \n",
       "min       333.000000          0.000000  \n",
       "25%       465.000000          0.000000  \n",
       "50%       535.500000          0.000000  \n",
       "75%       614.750000          1.000000  \n",
       "max       868.000000          1.000000  "
      ]
     },
     "execution_count": 5,
     "metadata": {},
     "output_type": "execute_result"
    }
   ],
   "source": [
    "movie.describe()"
   ]
  },
  {
   "cell_type": "code",
   "execution_count": 6,
   "id": "7dddd2da",
   "metadata": {},
   "outputs": [],
   "source": [
    "#missing value in time_taken\n",
    "#outerliers in collection,marketing expenses,lead actor rating,lead actress rating,director rating\n",
    "#producr rating,trailer views,time taken,twitter hastags,num multiplex\n"
   ]
  },
  {
   "cell_type": "code",
   "execution_count": 7,
   "id": "52721646",
   "metadata": {},
   "outputs": [
    {
     "data": {
      "text/plain": [
       "<Axes: xlabel='Movie_length', ylabel='Budget'>"
      ]
     },
     "execution_count": 7,
     "metadata": {},
     "output_type": "execute_result"
    },
    {
     "data": {
      "image/png": "[encoded data removed]",
      "text/plain": [
       "<Figure size 640x480 with 1 Axes>"
      ]
     },
     "metadata": {},
     "output_type": "display_data"
    }
   ],
   "source": [
    "sns.scatterplot(x=\"Movie_length\",y=\"Budget\",data=movie)"
   ]
  },
  {
   "cell_type": "code",
   "execution_count": 8,
   "id": "8d8c78fd",
   "metadata": {},
   "outputs": [
    {
     "data": {
      "text/plain": [
       "<Axes: ylabel='Budget'>"
      ]
     },
     "execution_count": 8,
     "metadata": {},
     "output_type": "execute_result"
    },
    {
     "data": {
      "image/png": "[encoded data removed]",
      "text/plain": [
       "<Figure size 640x480 with 1 Axes>"
      ]
     },
     "metadata": {},
     "output_type": "display_data"
    }
   ],
   "source": [
    "sns.boxplot(y='Budget',data=movie)"
   ]
  },
  {
   "cell_type": "code",
   "execution_count": 9,
   "id": "1ba1e83d",
   "metadata": {},
   "outputs": [
    {
     "name": "stdout",
     "output_type": "stream",
     "text": [
      "<class 'pandas.core.frame.DataFrame'>\n",
      "RangeIndex: 506 entries, 0 to 505\n",
      "Data columns (total 20 columns):\n",
      " #   Column               Non-Null Count  Dtype  \n",
      "---  ------               --------------  -----  \n",
      " 0   Collection           506 non-null    int64  \n",
      " 1   Marketing expense    506 non-null    float64\n",
      " 2   Production expense   506 non-null    float64\n",
      " 3   Multiplex coverage   506 non-null    float64\n",
      " 4   Budget               506 non-null    float64\n",
      " 5   Movie_length         506 non-null    float64\n",
      " 6   Lead_ Actor_Rating   506 non-null    float64\n",
      " 7   Lead_Actress_rating  506 non-null    float64\n",
      " 8   Director_rating      506 non-null    float64\n",
      " 9   Producer_rating      506 non-null    float64\n",
      " 10  Critic_rating        506 non-null    float64\n",
      " 11  Trailer_views        506 non-null    int64  \n",
      " 12  3D_available         506 non-null    object \n",
      " 13  Time_taken           494 non-null    float64\n",
      " 14  Twitter_hastags      506 non-null    float64\n",
      " 15  Genre                506 non-null    object \n",
      " 16  Avg_age_actors       506 non-null    int64  \n",
      " 17  MPAA_film_rating     506 non-null    object \n",
      " 18  Num_multiplex        506 non-null    int64  \n",
      " 19  Start_Tech_Oscar     506 non-null    int64  \n",
      "dtypes: float64(12), int64(5), object(3)\n",
      "memory usage: 79.2+ KB\n"
     ]
    }
   ],
   "source": [
    "movie.info()"
   ]
  },
  {
   "cell_type": "markdown",
   "id": "3410b218",
   "metadata": {},
   "source": []
  },
  {
   "cell_type": "code",
   "execution_count": 10,
   "id": "e9ae1473",
   "metadata": {},
   "outputs": [],
   "source": [
    "movie.Time_taken=movie.Time_taken.fillna(movie.Time_taken.mean())"
   ]
  },
  {
   "cell_type": "code",
   "execution_count": 11,
   "id": "96bf180a",
   "metadata": {},
   "outputs": [
    {
     "data": {
      "text/html": [
       "<div>\n",
       "<style scoped>\n",
       "    .dataframe tbody tr th:only-of-type {\n",
       "        vertical-align: middle;\n",
       "    }\n",
       "\n",
       "    .dataframe tbody tr th {\n",
       "        vertical-align: top;\n",
       "    }\n",
       "\n",
       "    .dataframe thead th {\n",
       "        text-align: right;\n",
       "    }\n",
       "</style>\n",
       "<table border=\"1\" class=\"dataframe\">\n",
       "  <thead>\n",
       "    <tr style=\"text-align: right;\">\n",
       "      <th></th>\n",
       "      <th>Collection</th>\n",
       "      <th>Marketing expense</th>\n",
       "      <th>Production expense</th>\n",
       "      <th>Multiplex coverage</th>\n",
       "      <th>Budget</th>\n",
       "      <th>Movie_length</th>\n",
       "      <th>Lead_ Actor_Rating</th>\n",
       "      <th>Lead_Actress_rating</th>\n",
       "      <th>Director_rating</th>\n",
       "      <th>Producer_rating</th>\n",
       "      <th>Critic_rating</th>\n",
       "      <th>Trailer_views</th>\n",
       "      <th>Time_taken</th>\n",
       "      <th>Twitter_hastags</th>\n",
       "      <th>Avg_age_actors</th>\n",
       "      <th>Num_multiplex</th>\n",
       "      <th>Start_Tech_Oscar</th>\n",
       "    </tr>\n",
       "  </thead>\n",
       "  <tbody>\n",
       "    <tr>\n",
       "      <th>count</th>\n",
       "      <td>506.000000</td>\n",
       "      <td>506.000000</td>\n",
       "      <td>506.000000</td>\n",
       "      <td>506.000000</td>\n",
       "      <td>506.000000</td>\n",
       "      <td>506.000000</td>\n",
       "      <td>506.000000</td>\n",
       "      <td>506.000000</td>\n",
       "      <td>506.000000</td>\n",
       "      <td>506.000000</td>\n",
       "      <td>506.000000</td>\n",
       "      <td>506.000000</td>\n",
       "      <td>506.000000</td>\n",
       "      <td>506.000000</td>\n",
       "      <td>506.000000</td>\n",
       "      <td>506.000000</td>\n",
       "      <td>506.000000</td>\n",
       "    </tr>\n",
       "    <tr>\n",
       "      <th>mean</th>\n",
       "      <td>45057.707510</td>\n",
       "      <td>92.270471</td>\n",
       "      <td>77.273557</td>\n",
       "      <td>0.445305</td>\n",
       "      <td>34911.144022</td>\n",
       "      <td>142.074901</td>\n",
       "      <td>8.014002</td>\n",
       "      <td>8.185613</td>\n",
       "      <td>8.019664</td>\n",
       "      <td>8.190514</td>\n",
       "      <td>7.810870</td>\n",
       "      <td>449860.715415</td>\n",
       "      <td>157.391498</td>\n",
       "      <td>260.832095</td>\n",
       "      <td>39.181818</td>\n",
       "      <td>545.043478</td>\n",
       "      <td>0.454545</td>\n",
       "    </tr>\n",
       "    <tr>\n",
       "      <th>std</th>\n",
       "      <td>18364.351764</td>\n",
       "      <td>172.030902</td>\n",
       "      <td>13.720706</td>\n",
       "      <td>0.115878</td>\n",
       "      <td>3903.038232</td>\n",
       "      <td>28.148861</td>\n",
       "      <td>1.054266</td>\n",
       "      <td>1.054290</td>\n",
       "      <td>1.059899</td>\n",
       "      <td>1.049601</td>\n",
       "      <td>0.659699</td>\n",
       "      <td>68917.763145</td>\n",
       "      <td>30.921101</td>\n",
       "      <td>104.779133</td>\n",
       "      <td>12.513697</td>\n",
       "      <td>106.332889</td>\n",
       "      <td>0.498422</td>\n",
       "    </tr>\n",
       "    <tr>\n",
       "      <th>min</th>\n",
       "      <td>10000.000000</td>\n",
       "      <td>20.126400</td>\n",
       "      <td>55.920000</td>\n",
       "      <td>0.129000</td>\n",
       "      <td>19781.355000</td>\n",
       "      <td>76.400000</td>\n",
       "      <td>3.840000</td>\n",
       "      <td>4.035000</td>\n",
       "      <td>3.840000</td>\n",
       "      <td>4.030000</td>\n",
       "      <td>6.600000</td>\n",
       "      <td>212912.000000</td>\n",
       "      <td>0.000000</td>\n",
       "      <td>201.152000</td>\n",
       "      <td>3.000000</td>\n",
       "      <td>333.000000</td>\n",
       "      <td>0.000000</td>\n",
       "    </tr>\n",
       "    <tr>\n",
       "      <th>25%</th>\n",
       "      <td>34050.000000</td>\n",
       "      <td>21.640900</td>\n",
       "      <td>65.380000</td>\n",
       "      <td>0.376000</td>\n",
       "      <td>32693.952500</td>\n",
       "      <td>118.525000</td>\n",
       "      <td>7.316250</td>\n",
       "      <td>7.503750</td>\n",
       "      <td>7.296250</td>\n",
       "      <td>7.507500</td>\n",
       "      <td>7.200000</td>\n",
       "      <td>409128.000000</td>\n",
       "      <td>132.690000</td>\n",
       "      <td>223.796000</td>\n",
       "      <td>28.000000</td>\n",
       "      <td>465.000000</td>\n",
       "      <td>0.000000</td>\n",
       "    </tr>\n",
       "    <tr>\n",
       "      <th>50%</th>\n",
       "      <td>42400.000000</td>\n",
       "      <td>25.130200</td>\n",
       "      <td>74.380000</td>\n",
       "      <td>0.462000</td>\n",
       "      <td>34488.217500</td>\n",
       "      <td>151.000000</td>\n",
       "      <td>8.307500</td>\n",
       "      <td>8.495000</td>\n",
       "      <td>8.312500</td>\n",
       "      <td>8.465000</td>\n",
       "      <td>7.960000</td>\n",
       "      <td>462460.000000</td>\n",
       "      <td>158.980000</td>\n",
       "      <td>254.400000</td>\n",
       "      <td>39.000000</td>\n",
       "      <td>535.500000</td>\n",
       "      <td>0.000000</td>\n",
       "    </tr>\n",
       "    <tr>\n",
       "      <th>75%</th>\n",
       "      <td>50000.000000</td>\n",
       "      <td>93.541650</td>\n",
       "      <td>91.200000</td>\n",
       "      <td>0.551000</td>\n",
       "      <td>36793.542500</td>\n",
       "      <td>167.575000</td>\n",
       "      <td>8.865000</td>\n",
       "      <td>9.030000</td>\n",
       "      <td>8.883750</td>\n",
       "      <td>9.030000</td>\n",
       "      <td>8.260000</td>\n",
       "      <td>500247.500000</td>\n",
       "      <td>181.520000</td>\n",
       "      <td>283.416000</td>\n",
       "      <td>50.000000</td>\n",
       "      <td>614.750000</td>\n",
       "      <td>1.000000</td>\n",
       "    </tr>\n",
       "    <tr>\n",
       "      <th>max</th>\n",
       "      <td>100000.000000</td>\n",
       "      <td>1799.524000</td>\n",
       "      <td>110.480000</td>\n",
       "      <td>0.615000</td>\n",
       "      <td>48772.900000</td>\n",
       "      <td>173.500000</td>\n",
       "      <td>9.435000</td>\n",
       "      <td>9.540000</td>\n",
       "      <td>9.425000</td>\n",
       "      <td>9.635000</td>\n",
       "      <td>9.400000</td>\n",
       "      <td>567784.000000</td>\n",
       "      <td>217.520000</td>\n",
       "      <td>2022.400000</td>\n",
       "      <td>60.000000</td>\n",
       "      <td>868.000000</td>\n",
       "      <td>1.000000</td>\n",
       "    </tr>\n",
       "  </tbody>\n",
       "</table>\n",
       "</div>"
      ],
      "text/plain": [
       "          Collection  Marketing expense  Production expense  \\\n",
       "count     506.000000         506.000000          506.000000   \n",
       "mean    45057.707510          92.270471           77.273557   \n",
       "std     18364.351764         172.030902           13.720706   \n",
       "min     10000.000000          20.126400           55.920000   \n",
       "25%     34050.000000          21.640900           65.380000   \n",
       "50%     42400.000000          25.130200           74.380000   \n",
       "75%     50000.000000          93.541650           91.200000   \n",
       "max    100000.000000        1799.524000          110.480000   \n",
       "\n",
       "       Multiplex coverage        Budget  Movie_length  Lead_ Actor_Rating  \\\n",
       "count          506.000000    506.000000    506.000000          506.000000   \n",
       "mean             0.445305  34911.144022    142.074901            8.014002   \n",
       "std              0.115878   3903.038232     28.148861            1.054266   \n",
       "min              0.129000  19781.355000     76.400000            3.840000   \n",
       "25%              0.376000  32693.952500    118.525000            7.316250   \n",
       "50%              0.462000  34488.217500    151.000000            8.307500   \n",
       "75%              0.551000  36793.542500    167.575000            8.865000   \n",
       "max              0.615000  48772.900000    173.500000            9.435000   \n",
       "\n",
       "       Lead_Actress_rating  Director_rating  Producer_rating  Critic_rating  \\\n",
       "count           506.000000       506.000000       506.000000     506.000000   \n",
       "mean              8.185613         8.019664         8.190514       7.810870   \n",
       "std               1.054290         1.059899         1.049601       0.659699   \n",
       "min               4.035000         3.840000         4.030000       6.600000   \n",
       "25%               7.503750         7.296250         7.507500       7.200000   \n",
       "50%               8.495000         8.312500         8.465000       7.960000   \n",
       "75%               9.030000         8.883750         9.030000       8.260000   \n",
       "max               9.540000         9.425000         9.635000       9.400000   \n",
       "\n",
       "       Trailer_views  Time_taken  Twitter_hastags  Avg_age_actors  \\\n",
       "count     506.000000  506.000000       506.000000      506.000000   \n",
       "mean   449860.715415  157.391498       260.832095       39.181818   \n",
       "std     68917.763145   30.921101       104.779133       12.513697   \n",
       "min    212912.000000    0.000000       201.152000        3.000000   \n",
       "25%    409128.000000  132.690000       223.796000       28.000000   \n",
       "50%    462460.000000  158.980000       254.400000       39.000000   \n",
       "75%    500247.500000  181.520000       283.416000       50.000000   \n",
       "max    567784.000000  217.520000      2022.400000       60.000000   \n",
       "\n",
       "       Num_multiplex  Start_Tech_Oscar  \n",
       "count     506.000000        506.000000  \n",
       "mean      545.043478          0.454545  \n",
       "std       106.332889          0.498422  \n",
       "min       333.000000          0.000000  \n",
       "25%       465.000000          0.000000  \n",
       "50%       535.500000          0.000000  \n",
       "75%       614.750000          1.000000  \n",
       "max       868.000000          1.000000  "
      ]
     },
     "execution_count": 11,
     "metadata": {},
     "output_type": "execute_result"
    }
   ],
   "source": [
    "movie.describe()"
   ]
  },
  {
   "cell_type": "code",
   "execution_count": 12,
   "id": "8736f1c6",
   "metadata": {},
   "outputs": [
    {
     "data": {
      "text/plain": [
       "307.9904"
      ]
     },
     "execution_count": 12,
     "metadata": {},
     "output_type": "execute_result"
    }
   ],
   "source": [
    "np.percentile(movie.Twitter_hastags,[99][0])"
   ]
  },
  {
   "cell_type": "code",
   "execution_count": 13,
   "id": "335a1a8a",
   "metadata": {},
   "outputs": [
    {
     "data": {
      "text/plain": [
       "25133.31975"
      ]
     },
     "execution_count": 13,
     "metadata": {},
     "output_type": "execute_result"
    }
   ],
   "source": [
    "np.percentile(movie.Budget,[1])[0]"
   ]
  },
  {
   "cell_type": "code",
   "execution_count": 14,
   "id": "82aa6986",
   "metadata": {},
   "outputs": [],
   "source": [
    "upper=np.percentile(movie.Twitter_hastags,[99][0])"
   ]
  },
  {
   "cell_type": "code",
   "execution_count": 15,
   "id": "2b9e39a8",
   "metadata": {},
   "outputs": [
    {
     "name": "stderr",
     "output_type": "stream",
     "text": [
      "C:\\Users\\User\\AppData\\Local\\Temp\\ipykernel_5288\\2748386378.py:1: SettingWithCopyWarning: \n",
      "A value is trying to be set on a copy of a slice from a DataFrame\n",
      "\n",
      "See the caveats in the documentation: https://pandas.pydata.org/pandas-docs/stable/user_guide/indexing.html#returning-a-view-versus-a-copy\n",
      "  movie.Twitter_hastags[(movie.Twitter_hastags>3*upper)]=3*upper\n"
     ]
    }
   ],
   "source": [
    "movie.Twitter_hastags[(movie.Twitter_hastags>3*upper)]=3*upper"
   ]
  },
  {
   "cell_type": "code",
   "execution_count": 16,
   "id": "054899ec",
   "metadata": {},
   "outputs": [
    {
     "data": {
      "text/html": [
       "<div>\n",
       "<style scoped>\n",
       "    .dataframe tbody tr th:only-of-type {\n",
       "        vertical-align: middle;\n",
       "    }\n",
       "\n",
       "    .dataframe tbody tr th {\n",
       "        vertical-align: top;\n",
       "    }\n",
       "\n",
       "    .dataframe thead th {\n",
       "        text-align: right;\n",
       "    }\n",
       "</style>\n",
       "<table border=\"1\" class=\"dataframe\">\n",
       "  <thead>\n",
       "    <tr style=\"text-align: right;\">\n",
       "      <th></th>\n",
       "      <th>Collection</th>\n",
       "      <th>Marketing expense</th>\n",
       "      <th>Production expense</th>\n",
       "      <th>Multiplex coverage</th>\n",
       "      <th>Budget</th>\n",
       "      <th>Movie_length</th>\n",
       "      <th>Lead_ Actor_Rating</th>\n",
       "      <th>Lead_Actress_rating</th>\n",
       "      <th>Director_rating</th>\n",
       "      <th>Producer_rating</th>\n",
       "      <th>Critic_rating</th>\n",
       "      <th>Trailer_views</th>\n",
       "      <th>3D_available</th>\n",
       "      <th>Time_taken</th>\n",
       "      <th>Twitter_hastags</th>\n",
       "      <th>Genre</th>\n",
       "      <th>Avg_age_actors</th>\n",
       "      <th>MPAA_film_rating</th>\n",
       "      <th>Num_multiplex</th>\n",
       "      <th>Start_Tech_Oscar</th>\n",
       "    </tr>\n",
       "  </thead>\n",
       "  <tbody>\n",
       "  </tbody>\n",
       "</table>\n",
       "</div>"
      ],
      "text/plain": [
       "Empty DataFrame\n",
       "Columns: [Collection, Marketing expense, Production expense, Multiplex coverage, Budget, Movie_length, Lead_ Actor_Rating, Lead_Actress_rating, Director_rating, Producer_rating, Critic_rating, Trailer_views, 3D_available, Time_taken, Twitter_hastags, Genre, Avg_age_actors, MPAA_film_rating, Num_multiplex, Start_Tech_Oscar]\n",
       "Index: []"
      ]
     },
     "execution_count": 16,
     "metadata": {},
     "output_type": "execute_result"
    }
   ],
   "source": [
    "movie[(movie.Twitter_hastags>3*upper)]"
   ]
  },
  {
   "cell_type": "code",
   "execution_count": 17,
   "id": "e4f4af3d",
   "metadata": {},
   "outputs": [
    {
     "data": {
      "text/html": [
       "<div>\n",
       "<style scoped>\n",
       "    .dataframe tbody tr th:only-of-type {\n",
       "        vertical-align: middle;\n",
       "    }\n",
       "\n",
       "    .dataframe tbody tr th {\n",
       "        vertical-align: top;\n",
       "    }\n",
       "\n",
       "    .dataframe thead th {\n",
       "        text-align: right;\n",
       "    }\n",
       "</style>\n",
       "<table border=\"1\" class=\"dataframe\">\n",
       "  <thead>\n",
       "    <tr style=\"text-align: right;\">\n",
       "      <th></th>\n",
       "      <th>Collection</th>\n",
       "      <th>Marketing expense</th>\n",
       "      <th>Production expense</th>\n",
       "      <th>Multiplex coverage</th>\n",
       "      <th>Budget</th>\n",
       "      <th>Movie_length</th>\n",
       "      <th>Lead_ Actor_Rating</th>\n",
       "      <th>Lead_Actress_rating</th>\n",
       "      <th>Director_rating</th>\n",
       "      <th>Producer_rating</th>\n",
       "      <th>Critic_rating</th>\n",
       "      <th>Trailer_views</th>\n",
       "      <th>3D_available</th>\n",
       "      <th>Time_taken</th>\n",
       "      <th>Twitter_hastags</th>\n",
       "      <th>Genre</th>\n",
       "      <th>Avg_age_actors</th>\n",
       "      <th>MPAA_film_rating</th>\n",
       "      <th>Num_multiplex</th>\n",
       "      <th>Start_Tech_Oscar</th>\n",
       "    </tr>\n",
       "  </thead>\n",
       "  <tbody>\n",
       "  </tbody>\n",
       "</table>\n",
       "</div>"
      ],
      "text/plain": [
       "Empty DataFrame\n",
       "Columns: [Collection, Marketing expense, Production expense, Multiplex coverage, Budget, Movie_length, Lead_ Actor_Rating, Lead_Actress_rating, Director_rating, Producer_rating, Critic_rating, Trailer_views, 3D_available, Time_taken, Twitter_hastags, Genre, Avg_age_actors, MPAA_film_rating, Num_multiplex, Start_Tech_Oscar]\n",
       "Index: []"
      ]
     },
     "execution_count": 17,
     "metadata": {},
     "output_type": "execute_result"
    }
   ],
   "source": [
    "movie[(movie.Budget<3*upper)]"
   ]
  },
  {
   "cell_type": "code",
   "execution_count": null,
   "id": "12558109",
   "metadata": {},
   "outputs": [],
   "source": []
  },
  {
   "cell_type": "code",
   "execution_count": 18,
   "id": "80c0ab78",
   "metadata": {},
   "outputs": [],
   "source": [
    "movie['movie_rating'] = (movie['Lead_ Actor_Rating'] + movie['Lead_Actress_rating'] +\n",
    "                        movie['Director_rating'] + movie['Producer_rating'] + movie['Critic_rating']) / 5\n"
   ]
  },
  {
   "cell_type": "code",
   "execution_count": 19,
   "id": "3cac8cd8",
   "metadata": {},
   "outputs": [],
   "source": [
    "del movie['Lead_ Actor_Rating']"
   ]
  },
  {
   "cell_type": "code",
   "execution_count": 20,
   "id": "3942c533",
   "metadata": {},
   "outputs": [],
   "source": [
    "del movie['Lead_Actress_rating']"
   ]
  },
  {
   "cell_type": "code",
   "execution_count": 21,
   "id": "1edd374f",
   "metadata": {},
   "outputs": [],
   "source": [
    "del movie['Director_rating']"
   ]
  },
  {
   "cell_type": "code",
   "execution_count": 22,
   "id": "dc22fc22",
   "metadata": {},
   "outputs": [],
   "source": [
    "del movie['Producer_rating']"
   ]
  },
  {
   "cell_type": "code",
   "execution_count": 23,
   "id": "09165537",
   "metadata": {},
   "outputs": [],
   "source": [
    "del movie['Critic_rating']"
   ]
  },
  {
   "cell_type": "code",
   "execution_count": 24,
   "id": "8f472aaa",
   "metadata": {},
   "outputs": [
    {
     "data": {
      "text/html": [
       "<div>\n",
       "<style scoped>\n",
       "    .dataframe tbody tr th:only-of-type {\n",
       "        vertical-align: middle;\n",
       "    }\n",
       "\n",
       "    .dataframe tbody tr th {\n",
       "        vertical-align: top;\n",
       "    }\n",
       "\n",
       "    .dataframe thead th {\n",
       "        text-align: right;\n",
       "    }\n",
       "</style>\n",
       "<table border=\"1\" class=\"dataframe\">\n",
       "  <thead>\n",
       "    <tr style=\"text-align: right;\">\n",
       "      <th></th>\n",
       "      <th>Collection</th>\n",
       "      <th>Marketing expense</th>\n",
       "      <th>Production expense</th>\n",
       "      <th>Multiplex coverage</th>\n",
       "      <th>Budget</th>\n",
       "      <th>Movie_length</th>\n",
       "      <th>Trailer_views</th>\n",
       "      <th>Time_taken</th>\n",
       "      <th>Twitter_hastags</th>\n",
       "      <th>Avg_age_actors</th>\n",
       "      <th>Num_multiplex</th>\n",
       "      <th>Start_Tech_Oscar</th>\n",
       "      <th>movie_rating</th>\n",
       "    </tr>\n",
       "  </thead>\n",
       "  <tbody>\n",
       "    <tr>\n",
       "      <th>count</th>\n",
       "      <td>506.000000</td>\n",
       "      <td>506.000000</td>\n",
       "      <td>506.000000</td>\n",
       "      <td>506.000000</td>\n",
       "      <td>506.000000</td>\n",
       "      <td>506.000000</td>\n",
       "      <td>506.000000</td>\n",
       "      <td>506.000000</td>\n",
       "      <td>506.000000</td>\n",
       "      <td>506.000000</td>\n",
       "      <td>506.000000</td>\n",
       "      <td>506.000000</td>\n",
       "      <td>506.000000</td>\n",
       "    </tr>\n",
       "    <tr>\n",
       "      <th>mean</th>\n",
       "      <td>45057.707510</td>\n",
       "      <td>92.270471</td>\n",
       "      <td>77.273557</td>\n",
       "      <td>0.445305</td>\n",
       "      <td>34911.144022</td>\n",
       "      <td>142.074901</td>\n",
       "      <td>449860.715415</td>\n",
       "      <td>157.391498</td>\n",
       "      <td>257.280993</td>\n",
       "      <td>39.181818</td>\n",
       "      <td>545.043478</td>\n",
       "      <td>0.454545</td>\n",
       "      <td>8.044132</td>\n",
       "    </tr>\n",
       "    <tr>\n",
       "      <th>std</th>\n",
       "      <td>18364.351764</td>\n",
       "      <td>172.030902</td>\n",
       "      <td>13.720706</td>\n",
       "      <td>0.115878</td>\n",
       "      <td>3903.038232</td>\n",
       "      <td>28.148861</td>\n",
       "      <td>68917.763145</td>\n",
       "      <td>30.921101</td>\n",
       "      <td>53.775554</td>\n",
       "      <td>12.513697</td>\n",
       "      <td>106.332889</td>\n",
       "      <td>0.498422</td>\n",
       "      <td>0.830473</td>\n",
       "    </tr>\n",
       "    <tr>\n",
       "      <th>min</th>\n",
       "      <td>10000.000000</td>\n",
       "      <td>20.126400</td>\n",
       "      <td>55.920000</td>\n",
       "      <td>0.129000</td>\n",
       "      <td>19781.355000</td>\n",
       "      <td>76.400000</td>\n",
       "      <td>212912.000000</td>\n",
       "      <td>0.000000</td>\n",
       "      <td>201.152000</td>\n",
       "      <td>3.000000</td>\n",
       "      <td>333.000000</td>\n",
       "      <td>0.000000</td>\n",
       "      <td>4.869000</td>\n",
       "    </tr>\n",
       "    <tr>\n",
       "      <th>25%</th>\n",
       "      <td>34050.000000</td>\n",
       "      <td>21.640900</td>\n",
       "      <td>65.380000</td>\n",
       "      <td>0.376000</td>\n",
       "      <td>32693.952500</td>\n",
       "      <td>118.525000</td>\n",
       "      <td>409128.000000</td>\n",
       "      <td>132.690000</td>\n",
       "      <td>223.796000</td>\n",
       "      <td>28.000000</td>\n",
       "      <td>465.000000</td>\n",
       "      <td>0.000000</td>\n",
       "      <td>7.552750</td>\n",
       "    </tr>\n",
       "    <tr>\n",
       "      <th>50%</th>\n",
       "      <td>42400.000000</td>\n",
       "      <td>25.130200</td>\n",
       "      <td>74.380000</td>\n",
       "      <td>0.462000</td>\n",
       "      <td>34488.217500</td>\n",
       "      <td>151.000000</td>\n",
       "      <td>462460.000000</td>\n",
       "      <td>158.980000</td>\n",
       "      <td>254.400000</td>\n",
       "      <td>39.000000</td>\n",
       "      <td>535.500000</td>\n",
       "      <td>0.000000</td>\n",
       "      <td>8.278000</td>\n",
       "    </tr>\n",
       "    <tr>\n",
       "      <th>75%</th>\n",
       "      <td>50000.000000</td>\n",
       "      <td>93.541650</td>\n",
       "      <td>91.200000</td>\n",
       "      <td>0.551000</td>\n",
       "      <td>36793.542500</td>\n",
       "      <td>167.575000</td>\n",
       "      <td>500247.500000</td>\n",
       "      <td>181.520000</td>\n",
       "      <td>283.416000</td>\n",
       "      <td>50.000000</td>\n",
       "      <td>614.750000</td>\n",
       "      <td>1.000000</td>\n",
       "      <td>8.684750</td>\n",
       "    </tr>\n",
       "    <tr>\n",
       "      <th>max</th>\n",
       "      <td>100000.000000</td>\n",
       "      <td>1799.524000</td>\n",
       "      <td>110.480000</td>\n",
       "      <td>0.615000</td>\n",
       "      <td>48772.900000</td>\n",
       "      <td>173.500000</td>\n",
       "      <td>567784.000000</td>\n",
       "      <td>217.520000</td>\n",
       "      <td>923.971200</td>\n",
       "      <td>60.000000</td>\n",
       "      <td>868.000000</td>\n",
       "      <td>1.000000</td>\n",
       "      <td>9.283000</td>\n",
       "    </tr>\n",
       "  </tbody>\n",
       "</table>\n",
       "</div>"
      ],
      "text/plain": [
       "          Collection  Marketing expense  Production expense  \\\n",
       "count     506.000000         506.000000          506.000000   \n",
       "mean    45057.707510          92.270471           77.273557   \n",
       "std     18364.351764         172.030902           13.720706   \n",
       "min     10000.000000          20.126400           55.920000   \n",
       "25%     34050.000000          21.640900           65.380000   \n",
       "50%     42400.000000          25.130200           74.380000   \n",
       "75%     50000.000000          93.541650           91.200000   \n",
       "max    100000.000000        1799.524000          110.480000   \n",
       "\n",
       "       Multiplex coverage        Budget  Movie_length  Trailer_views  \\\n",
       "count          506.000000    506.000000    506.000000     506.000000   \n",
       "mean             0.445305  34911.144022    142.074901  449860.715415   \n",
       "std              0.115878   3903.038232     28.148861   68917.763145   \n",
       "min              0.129000  19781.355000     76.400000  212912.000000   \n",
       "25%              0.376000  32693.952500    118.525000  409128.000000   \n",
       "50%              0.462000  34488.217500    151.000000  462460.000000   \n",
       "75%              0.551000  36793.542500    167.575000  500247.500000   \n",
       "max              0.615000  48772.900000    173.500000  567784.000000   \n",
       "\n",
       "       Time_taken  Twitter_hastags  Avg_age_actors  Num_multiplex  \\\n",
       "count  506.000000       506.000000      506.000000     506.000000   \n",
       "mean   157.391498       257.280993       39.181818     545.043478   \n",
       "std     30.921101        53.775554       12.513697     106.332889   \n",
       "min      0.000000       201.152000        3.000000     333.000000   \n",
       "25%    132.690000       223.796000       28.000000     465.000000   \n",
       "50%    158.980000       254.400000       39.000000     535.500000   \n",
       "75%    181.520000       283.416000       50.000000     614.750000   \n",
       "max    217.520000       923.971200       60.000000     868.000000   \n",
       "\n",
       "       Start_Tech_Oscar  movie_rating  \n",
       "count        506.000000    506.000000  \n",
       "mean           0.454545      8.044132  \n",
       "std            0.498422      0.830473  \n",
       "min            0.000000      4.869000  \n",
       "25%            0.000000      7.552750  \n",
       "50%            0.000000      8.278000  \n",
       "75%            1.000000      8.684750  \n",
       "max            1.000000      9.283000  "
      ]
     },
     "execution_count": 24,
     "metadata": {},
     "output_type": "execute_result"
    }
   ],
   "source": [
    "movie.describe()"
   ]
  },
  {
   "cell_type": "code",
   "execution_count": 25,
   "id": "c2f6f2c1",
   "metadata": {},
   "outputs": [],
   "source": [
    "percentile_value = np.percentile(movie['Marketing expense'], 99)\n"
   ]
  },
  {
   "cell_type": "code",
   "execution_count": 26,
   "id": "38d708b1",
   "metadata": {},
   "outputs": [
    {
     "data": {
      "text/plain": [
       "847.4065999999992"
      ]
     },
     "execution_count": 26,
     "metadata": {},
     "output_type": "execute_result"
    }
   ],
   "source": [
    "percentile_value"
   ]
  },
  {
   "cell_type": "code",
   "execution_count": 27,
   "id": "12843209",
   "metadata": {},
   "outputs": [
    {
     "data": {
      "text/html": [
       "<div>\n",
       "<style scoped>\n",
       "    .dataframe tbody tr th:only-of-type {\n",
       "        vertical-align: middle;\n",
       "    }\n",
       "\n",
       "    .dataframe tbody tr th {\n",
       "        vertical-align: top;\n",
       "    }\n",
       "\n",
       "    .dataframe thead th {\n",
       "        text-align: right;\n",
       "    }\n",
       "</style>\n",
       "<table border=\"1\" class=\"dataframe\">\n",
       "  <thead>\n",
       "    <tr style=\"text-align: right;\">\n",
       "      <th></th>\n",
       "      <th>Collection</th>\n",
       "      <th>Marketing expense</th>\n",
       "      <th>Production expense</th>\n",
       "      <th>Multiplex coverage</th>\n",
       "      <th>Budget</th>\n",
       "      <th>Movie_length</th>\n",
       "      <th>Trailer_views</th>\n",
       "      <th>3D_available</th>\n",
       "      <th>Time_taken</th>\n",
       "      <th>Twitter_hastags</th>\n",
       "      <th>Genre</th>\n",
       "      <th>Avg_age_actors</th>\n",
       "      <th>MPAA_film_rating</th>\n",
       "      <th>Num_multiplex</th>\n",
       "      <th>Start_Tech_Oscar</th>\n",
       "      <th>movie_rating</th>\n",
       "    </tr>\n",
       "  </thead>\n",
       "  <tbody>\n",
       "  </tbody>\n",
       "</table>\n",
       "</div>"
      ],
      "text/plain": [
       "Empty DataFrame\n",
       "Columns: [Collection, Marketing expense, Production expense, Multiplex coverage, Budget, Movie_length, Trailer_views, 3D_available, Time_taken, Twitter_hastags, Genre, Avg_age_actors, MPAA_film_rating, Num_multiplex, Start_Tech_Oscar, movie_rating]\n",
       "Index: []"
      ]
     },
     "execution_count": 27,
     "metadata": {},
     "output_type": "execute_result"
    }
   ],
   "source": [
    "movie[(movie['Marketing expense']>3*percentile_value)]"
   ]
  },
  {
   "cell_type": "code",
   "execution_count": 28,
   "id": "56856e9f",
   "metadata": {},
   "outputs": [],
   "source": [
    "dum=pd.get_dummies(movie)"
   ]
  },
  {
   "cell_type": "code",
   "execution_count": 29,
   "id": "832488e8",
   "metadata": {},
   "outputs": [
    {
     "data": {
      "text/html": [
       "<div>\n",
       "<style scoped>\n",
       "    .dataframe tbody tr th:only-of-type {\n",
       "        vertical-align: middle;\n",
       "    }\n",
       "\n",
       "    .dataframe tbody tr th {\n",
       "        vertical-align: top;\n",
       "    }\n",
       "\n",
       "    .dataframe thead th {\n",
       "        text-align: right;\n",
       "    }\n",
       "</style>\n",
       "<table border=\"1\" class=\"dataframe\">\n",
       "  <thead>\n",
       "    <tr style=\"text-align: right;\">\n",
       "      <th></th>\n",
       "      <th>Collection</th>\n",
       "      <th>Marketing expense</th>\n",
       "      <th>Production expense</th>\n",
       "      <th>Multiplex coverage</th>\n",
       "      <th>Budget</th>\n",
       "      <th>Movie_length</th>\n",
       "      <th>Trailer_views</th>\n",
       "      <th>Time_taken</th>\n",
       "      <th>Twitter_hastags</th>\n",
       "      <th>Avg_age_actors</th>\n",
       "      <th>Num_multiplex</th>\n",
       "      <th>Start_Tech_Oscar</th>\n",
       "      <th>movie_rating</th>\n",
       "      <th>3D_available_NO</th>\n",
       "      <th>3D_available_YES</th>\n",
       "      <th>Genre_Action</th>\n",
       "      <th>Genre_Comedy</th>\n",
       "      <th>Genre_Drama</th>\n",
       "      <th>Genre_Thriller</th>\n",
       "      <th>MPAA_film_rating_PG</th>\n",
       "    </tr>\n",
       "  </thead>\n",
       "  <tbody>\n",
       "    <tr>\n",
       "      <th>0</th>\n",
       "      <td>48000</td>\n",
       "      <td>20.1264</td>\n",
       "      <td>59.62</td>\n",
       "      <td>0.462</td>\n",
       "      <td>36524.125</td>\n",
       "      <td>138.7</td>\n",
       "      <td>527367</td>\n",
       "      <td>109.60</td>\n",
       "      <td>223.8400</td>\n",
       "      <td>23</td>\n",
       "      <td>494</td>\n",
       "      <td>0</td>\n",
       "      <td>7.953</td>\n",
       "      <td>False</td>\n",
       "      <td>True</td>\n",
       "      <td>False</td>\n",
       "      <td>False</td>\n",
       "      <td>False</td>\n",
       "      <td>True</td>\n",
       "      <td>True</td>\n",
       "    </tr>\n",
       "    <tr>\n",
       "      <th>1</th>\n",
       "      <td>43200</td>\n",
       "      <td>20.5462</td>\n",
       "      <td>69.14</td>\n",
       "      <td>0.531</td>\n",
       "      <td>35668.655</td>\n",
       "      <td>152.4</td>\n",
       "      <td>494055</td>\n",
       "      <td>146.64</td>\n",
       "      <td>243.4560</td>\n",
       "      <td>42</td>\n",
       "      <td>462</td>\n",
       "      <td>1</td>\n",
       "      <td>7.501</td>\n",
       "      <td>True</td>\n",
       "      <td>False</td>\n",
       "      <td>False</td>\n",
       "      <td>False</td>\n",
       "      <td>True</td>\n",
       "      <td>False</td>\n",
       "      <td>True</td>\n",
       "    </tr>\n",
       "    <tr>\n",
       "      <th>2</th>\n",
       "      <td>69400</td>\n",
       "      <td>20.5458</td>\n",
       "      <td>69.14</td>\n",
       "      <td>0.531</td>\n",
       "      <td>39912.675</td>\n",
       "      <td>134.6</td>\n",
       "      <td>547051</td>\n",
       "      <td>147.88</td>\n",
       "      <td>923.9712</td>\n",
       "      <td>38</td>\n",
       "      <td>458</td>\n",
       "      <td>0</td>\n",
       "      <td>7.501</td>\n",
       "      <td>True</td>\n",
       "      <td>False</td>\n",
       "      <td>False</td>\n",
       "      <td>True</td>\n",
       "      <td>False</td>\n",
       "      <td>False</td>\n",
       "      <td>True</td>\n",
       "    </tr>\n",
       "    <tr>\n",
       "      <th>3</th>\n",
       "      <td>66800</td>\n",
       "      <td>20.6474</td>\n",
       "      <td>59.36</td>\n",
       "      <td>0.542</td>\n",
       "      <td>38873.890</td>\n",
       "      <td>119.3</td>\n",
       "      <td>516279</td>\n",
       "      <td>185.36</td>\n",
       "      <td>225.3440</td>\n",
       "      <td>45</td>\n",
       "      <td>472</td>\n",
       "      <td>0</td>\n",
       "      <td>7.226</td>\n",
       "      <td>False</td>\n",
       "      <td>True</td>\n",
       "      <td>False</td>\n",
       "      <td>False</td>\n",
       "      <td>True</td>\n",
       "      <td>False</td>\n",
       "      <td>True</td>\n",
       "    </tr>\n",
       "    <tr>\n",
       "      <th>4</th>\n",
       "      <td>72400</td>\n",
       "      <td>21.3810</td>\n",
       "      <td>59.36</td>\n",
       "      <td>0.542</td>\n",
       "      <td>39701.585</td>\n",
       "      <td>127.7</td>\n",
       "      <td>531448</td>\n",
       "      <td>176.48</td>\n",
       "      <td>225.7920</td>\n",
       "      <td>55</td>\n",
       "      <td>395</td>\n",
       "      <td>0</td>\n",
       "      <td>7.227</td>\n",
       "      <td>True</td>\n",
       "      <td>False</td>\n",
       "      <td>False</td>\n",
       "      <td>False</td>\n",
       "      <td>True</td>\n",
       "      <td>False</td>\n",
       "      <td>True</td>\n",
       "    </tr>\n",
       "  </tbody>\n",
       "</table>\n",
       "</div>"
      ],
      "text/plain": [
       "   Collection  Marketing expense  Production expense  Multiplex coverage  \\\n",
       "0       48000            20.1264               59.62               0.462   \n",
       "1       43200            20.5462               69.14               0.531   \n",
       "2       69400            20.5458               69.14               0.531   \n",
       "3       66800            20.6474               59.36               0.542   \n",
       "4       72400            21.3810               59.36               0.542   \n",
       "\n",
       "      Budget  Movie_length  Trailer_views  Time_taken  Twitter_hastags  \\\n",
       "0  36524.125         138.7         527367      109.60         223.8400   \n",
       "1  35668.655         152.4         494055      146.64         243.4560   \n",
       "2  39912.675         134.6         547051      147.88         923.9712   \n",
       "3  38873.890         119.3         516279      185.36         225.3440   \n",
       "4  39701.585         127.7         531448      176.48         225.7920   \n",
       "\n",
       "   Avg_age_actors  Num_multiplex  Start_Tech_Oscar  movie_rating  \\\n",
       "0              23            494                 0         7.953   \n",
       "1              42            462                 1         7.501   \n",
       "2              38            458                 0         7.501   \n",
       "3              45            472                 0         7.226   \n",
       "4              55            395                 0         7.227   \n",
       "\n",
       "   3D_available_NO  3D_available_YES  Genre_Action  Genre_Comedy  Genre_Drama  \\\n",
       "0            False              True         False         False        False   \n",
       "1             True             False         False         False         True   \n",
       "2             True             False         False          True        False   \n",
       "3            False              True         False         False         True   \n",
       "4             True             False         False         False         True   \n",
       "\n",
       "   Genre_Thriller  MPAA_film_rating_PG  \n",
       "0            True                 True  \n",
       "1           False                 True  \n",
       "2           False                 True  \n",
       "3           False                 True  \n",
       "4           False                 True  "
      ]
     },
     "execution_count": 29,
     "metadata": {},
     "output_type": "execute_result"
    }
   ],
   "source": [
    "dum.head()"
   ]
  },
  {
   "cell_type": "code",
   "execution_count": 30,
   "id": "797b813b",
   "metadata": {},
   "outputs": [],
   "source": [
    "del dum['3D_available_NO']"
   ]
  },
  {
   "cell_type": "code",
   "execution_count": 31,
   "id": "ca4cbf1f",
   "metadata": {},
   "outputs": [
    {
     "data": {
      "text/html": [
       "<div>\n",
       "<style scoped>\n",
       "    .dataframe tbody tr th:only-of-type {\n",
       "        vertical-align: middle;\n",
       "    }\n",
       "\n",
       "    .dataframe tbody tr th {\n",
       "        vertical-align: top;\n",
       "    }\n",
       "\n",
       "    .dataframe thead th {\n",
       "        text-align: right;\n",
       "    }\n",
       "</style>\n",
       "<table border=\"1\" class=\"dataframe\">\n",
       "  <thead>\n",
       "    <tr style=\"text-align: right;\">\n",
       "      <th></th>\n",
       "      <th>Collection</th>\n",
       "      <th>Marketing expense</th>\n",
       "      <th>Production expense</th>\n",
       "      <th>Multiplex coverage</th>\n",
       "      <th>Budget</th>\n",
       "      <th>Movie_length</th>\n",
       "      <th>Trailer_views</th>\n",
       "      <th>Time_taken</th>\n",
       "      <th>Twitter_hastags</th>\n",
       "      <th>Avg_age_actors</th>\n",
       "      <th>Num_multiplex</th>\n",
       "      <th>Start_Tech_Oscar</th>\n",
       "      <th>movie_rating</th>\n",
       "      <th>3D_available_YES</th>\n",
       "      <th>Genre_Action</th>\n",
       "      <th>Genre_Comedy</th>\n",
       "      <th>Genre_Drama</th>\n",
       "      <th>Genre_Thriller</th>\n",
       "      <th>MPAA_film_rating_PG</th>\n",
       "    </tr>\n",
       "  </thead>\n",
       "  <tbody>\n",
       "    <tr>\n",
       "      <th>0</th>\n",
       "      <td>48000</td>\n",
       "      <td>20.1264</td>\n",
       "      <td>59.62</td>\n",
       "      <td>0.462</td>\n",
       "      <td>36524.125</td>\n",
       "      <td>138.7</td>\n",
       "      <td>527367</td>\n",
       "      <td>109.60</td>\n",
       "      <td>223.8400</td>\n",
       "      <td>23</td>\n",
       "      <td>494</td>\n",
       "      <td>0</td>\n",
       "      <td>7.953</td>\n",
       "      <td>True</td>\n",
       "      <td>False</td>\n",
       "      <td>False</td>\n",
       "      <td>False</td>\n",
       "      <td>True</td>\n",
       "      <td>True</td>\n",
       "    </tr>\n",
       "    <tr>\n",
       "      <th>1</th>\n",
       "      <td>43200</td>\n",
       "      <td>20.5462</td>\n",
       "      <td>69.14</td>\n",
       "      <td>0.531</td>\n",
       "      <td>35668.655</td>\n",
       "      <td>152.4</td>\n",
       "      <td>494055</td>\n",
       "      <td>146.64</td>\n",
       "      <td>243.4560</td>\n",
       "      <td>42</td>\n",
       "      <td>462</td>\n",
       "      <td>1</td>\n",
       "      <td>7.501</td>\n",
       "      <td>False</td>\n",
       "      <td>False</td>\n",
       "      <td>False</td>\n",
       "      <td>True</td>\n",
       "      <td>False</td>\n",
       "      <td>True</td>\n",
       "    </tr>\n",
       "    <tr>\n",
       "      <th>2</th>\n",
       "      <td>69400</td>\n",
       "      <td>20.5458</td>\n",
       "      <td>69.14</td>\n",
       "      <td>0.531</td>\n",
       "      <td>39912.675</td>\n",
       "      <td>134.6</td>\n",
       "      <td>547051</td>\n",
       "      <td>147.88</td>\n",
       "      <td>923.9712</td>\n",
       "      <td>38</td>\n",
       "      <td>458</td>\n",
       "      <td>0</td>\n",
       "      <td>7.501</td>\n",
       "      <td>False</td>\n",
       "      <td>False</td>\n",
       "      <td>True</td>\n",
       "      <td>False</td>\n",
       "      <td>False</td>\n",
       "      <td>True</td>\n",
       "    </tr>\n",
       "    <tr>\n",
       "      <th>3</th>\n",
       "      <td>66800</td>\n",
       "      <td>20.6474</td>\n",
       "      <td>59.36</td>\n",
       "      <td>0.542</td>\n",
       "      <td>38873.890</td>\n",
       "      <td>119.3</td>\n",
       "      <td>516279</td>\n",
       "      <td>185.36</td>\n",
       "      <td>225.3440</td>\n",
       "      <td>45</td>\n",
       "      <td>472</td>\n",
       "      <td>0</td>\n",
       "      <td>7.226</td>\n",
       "      <td>True</td>\n",
       "      <td>False</td>\n",
       "      <td>False</td>\n",
       "      <td>True</td>\n",
       "      <td>False</td>\n",
       "      <td>True</td>\n",
       "    </tr>\n",
       "    <tr>\n",
       "      <th>4</th>\n",
       "      <td>72400</td>\n",
       "      <td>21.3810</td>\n",
       "      <td>59.36</td>\n",
       "      <td>0.542</td>\n",
       "      <td>39701.585</td>\n",
       "      <td>127.7</td>\n",
       "      <td>531448</td>\n",
       "      <td>176.48</td>\n",
       "      <td>225.7920</td>\n",
       "      <td>55</td>\n",
       "      <td>395</td>\n",
       "      <td>0</td>\n",
       "      <td>7.227</td>\n",
       "      <td>False</td>\n",
       "      <td>False</td>\n",
       "      <td>False</td>\n",
       "      <td>True</td>\n",
       "      <td>False</td>\n",
       "      <td>True</td>\n",
       "    </tr>\n",
       "  </tbody>\n",
       "</table>\n",
       "</div>"
      ],
      "text/plain": [
       "   Collection  Marketing expense  Production expense  Multiplex coverage  \\\n",
       "0       48000            20.1264               59.62               0.462   \n",
       "1       43200            20.5462               69.14               0.531   \n",
       "2       69400            20.5458               69.14               0.531   \n",
       "3       66800            20.6474               59.36               0.542   \n",
       "4       72400            21.3810               59.36               0.542   \n",
       "\n",
       "      Budget  Movie_length  Trailer_views  Time_taken  Twitter_hastags  \\\n",
       "0  36524.125         138.7         527367      109.60         223.8400   \n",
       "1  35668.655         152.4         494055      146.64         243.4560   \n",
       "2  39912.675         134.6         547051      147.88         923.9712   \n",
       "3  38873.890         119.3         516279      185.36         225.3440   \n",
       "4  39701.585         127.7         531448      176.48         225.7920   \n",
       "\n",
       "   Avg_age_actors  Num_multiplex  Start_Tech_Oscar  movie_rating  \\\n",
       "0              23            494                 0         7.953   \n",
       "1              42            462                 1         7.501   \n",
       "2              38            458                 0         7.501   \n",
       "3              45            472                 0         7.226   \n",
       "4              55            395                 0         7.227   \n",
       "\n",
       "   3D_available_YES  Genre_Action  Genre_Comedy  Genre_Drama  Genre_Thriller  \\\n",
       "0              True         False         False        False            True   \n",
       "1             False         False         False         True           False   \n",
       "2             False         False          True        False           False   \n",
       "3              True         False         False         True           False   \n",
       "4             False         False         False         True           False   \n",
       "\n",
       "   MPAA_film_rating_PG  \n",
       "0                 True  \n",
       "1                 True  \n",
       "2                 True  \n",
       "3                 True  \n",
       "4                 True  "
      ]
     },
     "execution_count": 31,
     "metadata": {},
     "output_type": "execute_result"
    }
   ],
   "source": [
    "dum.head()"
   ]
  },
  {
   "cell_type": "code",
   "execution_count": 32,
   "id": "037e89e5",
   "metadata": {},
   "outputs": [],
   "source": [
    "x=movie.drop(columns=['Start_Tech_Oscar','3D_available','Genre','MPAA_film_rating'])"
   ]
  },
  {
   "cell_type": "code",
   "execution_count": 33,
   "id": "bb84ab54",
   "metadata": {},
   "outputs": [],
   "source": [
    "y=movie['Start_Tech_Oscar']"
   ]
  },
  {
   "cell_type": "code",
   "execution_count": 34,
   "id": "48823eb7",
   "metadata": {},
   "outputs": [
    {
     "data": {
      "text/html": [
       "<div>\n",
       "<style scoped>\n",
       "    .dataframe tbody tr th:only-of-type {\n",
       "        vertical-align: middle;\n",
       "    }\n",
       "\n",
       "    .dataframe tbody tr th {\n",
       "        vertical-align: top;\n",
       "    }\n",
       "\n",
       "    .dataframe thead th {\n",
       "        text-align: right;\n",
       "    }\n",
       "</style>\n",
       "<table border=\"1\" class=\"dataframe\">\n",
       "  <thead>\n",
       "    <tr style=\"text-align: right;\">\n",
       "      <th></th>\n",
       "      <th>Collection</th>\n",
       "      <th>Marketing expense</th>\n",
       "      <th>Production expense</th>\n",
       "      <th>Multiplex coverage</th>\n",
       "      <th>Budget</th>\n",
       "      <th>Movie_length</th>\n",
       "      <th>Trailer_views</th>\n",
       "      <th>Time_taken</th>\n",
       "      <th>Twitter_hastags</th>\n",
       "      <th>Avg_age_actors</th>\n",
       "      <th>Num_multiplex</th>\n",
       "      <th>movie_rating</th>\n",
       "    </tr>\n",
       "  </thead>\n",
       "  <tbody>\n",
       "    <tr>\n",
       "      <th>0</th>\n",
       "      <td>48000</td>\n",
       "      <td>20.1264</td>\n",
       "      <td>59.62</td>\n",
       "      <td>0.462</td>\n",
       "      <td>36524.125</td>\n",
       "      <td>138.7</td>\n",
       "      <td>527367</td>\n",
       "      <td>109.60</td>\n",
       "      <td>223.8400</td>\n",
       "      <td>23</td>\n",
       "      <td>494</td>\n",
       "      <td>7.953</td>\n",
       "    </tr>\n",
       "    <tr>\n",
       "      <th>1</th>\n",
       "      <td>43200</td>\n",
       "      <td>20.5462</td>\n",
       "      <td>69.14</td>\n",
       "      <td>0.531</td>\n",
       "      <td>35668.655</td>\n",
       "      <td>152.4</td>\n",
       "      <td>494055</td>\n",
       "      <td>146.64</td>\n",
       "      <td>243.4560</td>\n",
       "      <td>42</td>\n",
       "      <td>462</td>\n",
       "      <td>7.501</td>\n",
       "    </tr>\n",
       "    <tr>\n",
       "      <th>2</th>\n",
       "      <td>69400</td>\n",
       "      <td>20.5458</td>\n",
       "      <td>69.14</td>\n",
       "      <td>0.531</td>\n",
       "      <td>39912.675</td>\n",
       "      <td>134.6</td>\n",
       "      <td>547051</td>\n",
       "      <td>147.88</td>\n",
       "      <td>923.9712</td>\n",
       "      <td>38</td>\n",
       "      <td>458</td>\n",
       "      <td>7.501</td>\n",
       "    </tr>\n",
       "    <tr>\n",
       "      <th>3</th>\n",
       "      <td>66800</td>\n",
       "      <td>20.6474</td>\n",
       "      <td>59.36</td>\n",
       "      <td>0.542</td>\n",
       "      <td>38873.890</td>\n",
       "      <td>119.3</td>\n",
       "      <td>516279</td>\n",
       "      <td>185.36</td>\n",
       "      <td>225.3440</td>\n",
       "      <td>45</td>\n",
       "      <td>472</td>\n",
       "      <td>7.226</td>\n",
       "    </tr>\n",
       "    <tr>\n",
       "      <th>4</th>\n",
       "      <td>72400</td>\n",
       "      <td>21.3810</td>\n",
       "      <td>59.36</td>\n",
       "      <td>0.542</td>\n",
       "      <td>39701.585</td>\n",
       "      <td>127.7</td>\n",
       "      <td>531448</td>\n",
       "      <td>176.48</td>\n",
       "      <td>225.7920</td>\n",
       "      <td>55</td>\n",
       "      <td>395</td>\n",
       "      <td>7.227</td>\n",
       "    </tr>\n",
       "  </tbody>\n",
       "</table>\n",
       "</div>"
      ],
      "text/plain": [
       "   Collection  Marketing expense  Production expense  Multiplex coverage  \\\n",
       "0       48000            20.1264               59.62               0.462   \n",
       "1       43200            20.5462               69.14               0.531   \n",
       "2       69400            20.5458               69.14               0.531   \n",
       "3       66800            20.6474               59.36               0.542   \n",
       "4       72400            21.3810               59.36               0.542   \n",
       "\n",
       "      Budget  Movie_length  Trailer_views  Time_taken  Twitter_hastags  \\\n",
       "0  36524.125         138.7         527367      109.60         223.8400   \n",
       "1  35668.655         152.4         494055      146.64         243.4560   \n",
       "2  39912.675         134.6         547051      147.88         923.9712   \n",
       "3  38873.890         119.3         516279      185.36         225.3440   \n",
       "4  39701.585         127.7         531448      176.48         225.7920   \n",
       "\n",
       "   Avg_age_actors  Num_multiplex  movie_rating  \n",
       "0              23            494         7.953  \n",
       "1              42            462         7.501  \n",
       "2              38            458         7.501  \n",
       "3              45            472         7.226  \n",
       "4              55            395         7.227  "
      ]
     },
     "execution_count": 34,
     "metadata": {},
     "output_type": "execute_result"
    }
   ],
   "source": [
    "x.head()"
   ]
  },
  {
   "cell_type": "code",
   "execution_count": 35,
   "id": "6880cda7",
   "metadata": {},
   "outputs": [
    {
     "data": {
      "text/plain": [
       "0    0\n",
       "1    1\n",
       "2    0\n",
       "3    0\n",
       "4    0\n",
       "Name: Start_Tech_Oscar, dtype: int64"
      ]
     },
     "execution_count": 35,
     "metadata": {},
     "output_type": "execute_result"
    }
   ],
   "source": [
    "y.head()"
   ]
  },
  {
   "cell_type": "code",
   "execution_count": 36,
   "id": "00674c55",
   "metadata": {},
   "outputs": [],
   "source": [
    "from sklearn.linear_model import LogisticRegression"
   ]
  },
  {
   "cell_type": "code",
   "execution_count": 37,
   "id": "60e161d6",
   "metadata": {},
   "outputs": [],
   "source": [
    "re=LogisticRegression(solver='lbfgs')"
   ]
  },
  {
   "cell_type": "code",
   "execution_count": 38,
   "id": "9117f437",
   "metadata": {},
   "outputs": [
    {
     "name": "stderr",
     "output_type": "stream",
     "text": [
      "C:\\Users\\User\\anaconda3\\Lib\\site-packages\\sklearn\\linear_model\\_logistic.py:460: ConvergenceWarning: lbfgs failed to converge (status=1):\n",
      "STOP: TOTAL NO. of ITERATIONS REACHED LIMIT.\n",
      "\n",
      "Increase the number of iterations (max_iter) or scale the data as shown in:\n",
      "    https://scikit-learn.org/stable/modules/preprocessing.html\n",
      "Please also refer to the documentation for alternative solver options:\n",
      "    https://scikit-learn.org/stable/modules/linear_model.html#logistic-regression\n",
      "  n_iter_i = _check_optimize_result(\n"
     ]
    },
    {
     "data": {
      "text/html": [
       "<style>#sk-container-id-1 {color: black;}#sk-container-id-1 pre{padding: 0;}#sk-container-id-1 div.sk-toggleable {background-color: white;}#sk-container-id-1 label.sk-toggleable__label {cursor: pointer;display: block;width: 100%;margin-bottom: 0;padding: 0.3em;box-sizing: border-box;text-align: center;}#sk-container-id-1 label.sk-toggleable__label-arrow:before {content: \"▸\";float: left;margin-right: 0.25em;color: #696969;}#sk-container-id-1 label.sk-toggleable__label-arrow:hover:before {color: black;}#sk-container-id-1 div.sk-estimator:hover label.sk-toggleable__label-arrow:before {color: black;}#sk-container-id-1 div.sk-toggleable__content {max-height: 0;max-width: 0;overflow: hidden;text-align: left;background-color: #f0f8ff;}#sk-container-id-1 div.sk-toggleable__content pre {margin: 0.2em;color: black;border-radius: 0.25em;background-color: #f0f8ff;}#sk-container-id-1 input.sk-toggleable__control:checked~div.sk-toggleable__content {max-height: 200px;max-width: 100%;overflow: auto;}#sk-container-id-1 input.sk-toggleable__control:checked~label.sk-toggleable__label-arrow:before {content: \"▾\";}#sk-container-id-1 div.sk-estimator input.sk-toggleable__control:checked~label.sk-toggleable__label {background-color: #d4ebff;}#sk-container-id-1 div.sk-label input.sk-toggleable__control:checked~label.sk-toggleable__label {background-color: #d4ebff;}#sk-container-id-1 input.sk-hidden--visually {border: 0;clip: rect(1px 1px 1px 1px);clip: rect(1px, 1px, 1px, 1px);height: 1px;margin: -1px;overflow: hidden;padding: 0;position: absolute;width: 1px;}#sk-container-id-1 div.sk-estimator {font-family: monospace;background-color: #f0f8ff;border: 1px dotted black;border-radius: 0.25em;box-sizing: border-box;margin-bottom: 0.5em;}#sk-container-id-1 div.sk-estimator:hover {background-color: #d4ebff;}#sk-container-id-1 div.sk-parallel-item::after {content: \"\";width: 100%;border-bottom: 1px solid gray;flex-grow: 1;}#sk-container-id-1 div.sk-label:hover label.sk-toggleable__label {background-color: #d4ebff;}#sk-container-id-1 div.sk-serial::before {content: \"\";position: absolute;border-left: 1px solid gray;box-sizing: border-box;top: 0;bottom: 0;left: 50%;z-index: 0;}#sk-container-id-1 div.sk-serial {display: flex;flex-direction: column;align-items: center;background-color: white;padding-right: 0.2em;padding-left: 0.2em;position: relative;}#sk-container-id-1 div.sk-item {position: relative;z-index: 1;}#sk-container-id-1 div.sk-parallel {display: flex;align-items: stretch;justify-content: center;background-color: white;position: relative;}#sk-container-id-1 div.sk-item::before, #sk-container-id-1 div.sk-parallel-item::before {content: \"\";position: absolute;border-left: 1px solid gray;box-sizing: border-box;top: 0;bottom: 0;left: 50%;z-index: -1;}#sk-container-id-1 div.sk-parallel-item {display: flex;flex-direction: column;z-index: 1;position: relative;background-color: white;}#sk-container-id-1 div.sk-parallel-item:first-child::after {align-self: flex-end;width: 50%;}#sk-container-id-1 div.sk-parallel-item:last-child::after {align-self: flex-start;width: 50%;}#sk-container-id-1 div.sk-parallel-item:only-child::after {width: 0;}#sk-container-id-1 div.sk-dashed-wrapped {border: 1px dashed gray;margin: 0 0.4em 0.5em 0.4em;box-sizing: border-box;padding-bottom: 0.4em;background-color: white;}#sk-container-id-1 div.sk-label label {font-family: monospace;font-weight: bold;display: inline-block;line-height: 1.2em;}#sk-container-id-1 div.sk-label-container {text-align: center;}#sk-container-id-1 div.sk-container {/* jupyter's `normalize.less` sets `[hidden] { display: none; }` but bootstrap.min.css set `[hidden] { display: none !important; }` so we also need the `!important` here to be able to override the default hidden behavior on the sphinx rendered scikit-learn.org. See: https://github.com/scikit-learn/scikit-learn/issues/21755 */display: inline-block !important;position: relative;}#sk-container-id-1 div.sk-text-repr-fallback {display: none;}</style><div id=\"sk-container-id-1\" class=\"sk-top-container\"><div class=\"sk-text-repr-fallback\"><pre>LogisticRegression()</pre><b>In a Jupyter environment, please rerun this cell to show the HTML representation or trust the notebook. <br />On GitHub, the HTML representation is unable to render, please try loading this page with nbviewer.org.</b></div><div class=\"sk-container\" hidden><div class=\"sk-item\"><div class=\"sk-estimator sk-toggleable\"><input class=\"sk-toggleable__control sk-hidden--visually\" id=\"sk-estimator-id-1\" type=\"checkbox\" checked><label for=\"sk-estimator-id-1\" class=\"sk-toggleable__label sk-toggleable__label-arrow\">LogisticRegression</label><div class=\"sk-toggleable__content\"><pre>LogisticRegression()</pre></div></div></div></div></div>"
      ],
      "text/plain": [
       "LogisticRegression()"
      ]
     },
     "execution_count": 38,
     "metadata": {},
     "output_type": "execute_result"
    }
   ],
   "source": [
    "re.fit(x,y)"
   ]
  },
  {
   "cell_type": "raw",
   "id": "0ad1ac90",
   "metadata": {},
   "source": []
  },
  {
   "cell_type": "code",
   "execution_count": 39,
   "id": "5afeabf3",
   "metadata": {},
   "outputs": [
    {
     "data": {
      "text/plain": [
       "array([[-6.08484193e-05, -2.96038219e-04, -1.07040874e-03,\n",
       "        -1.73250632e-05,  6.08038605e-05, -2.07715527e-03,\n",
       "         7.81155038e-06,  8.73156224e-04, -8.98527355e-03,\n",
       "        -1.64227035e-03, -8.88915067e-04, -1.08514907e-06]])"
      ]
     },
     "execution_count": 39,
     "metadata": {},
     "output_type": "execute_result"
    }
   ],
   "source": [
    "re.coef_"
   ]
  },
  {
   "cell_type": "code",
   "execution_count": 40,
   "id": "e91af181",
   "metadata": {},
   "outputs": [
    {
     "data": {
      "text/plain": [
       "array([-2.21606245e-05])"
      ]
     },
     "execution_count": 40,
     "metadata": {},
     "output_type": "execute_result"
    }
   ],
   "source": [
    "re.intercept_"
   ]
  },
  {
   "cell_type": "code",
   "execution_count": 41,
   "id": "a2e4edf1",
   "metadata": {},
   "outputs": [],
   "source": [
    "import statsmodels.api as sn"
   ]
  },
  {
   "cell_type": "code",
   "execution_count": 42,
   "id": "ffe01a75",
   "metadata": {},
   "outputs": [],
   "source": [
    "x1=sn.add_constant(x)"
   ]
  },
  {
   "cell_type": "code",
   "execution_count": 43,
   "id": "f72a63c6",
   "metadata": {},
   "outputs": [
    {
     "data": {
      "text/html": [
       "<div>\n",
       "<style scoped>\n",
       "    .dataframe tbody tr th:only-of-type {\n",
       "        vertical-align: middle;\n",
       "    }\n",
       "\n",
       "    .dataframe tbody tr th {\n",
       "        vertical-align: top;\n",
       "    }\n",
       "\n",
       "    .dataframe thead th {\n",
       "        text-align: right;\n",
       "    }\n",
       "</style>\n",
       "<table border=\"1\" class=\"dataframe\">\n",
       "  <thead>\n",
       "    <tr style=\"text-align: right;\">\n",
       "      <th></th>\n",
       "      <th>const</th>\n",
       "      <th>Collection</th>\n",
       "      <th>Marketing expense</th>\n",
       "      <th>Production expense</th>\n",
       "      <th>Multiplex coverage</th>\n",
       "      <th>Budget</th>\n",
       "      <th>Movie_length</th>\n",
       "      <th>Trailer_views</th>\n",
       "      <th>Time_taken</th>\n",
       "      <th>Twitter_hastags</th>\n",
       "      <th>Avg_age_actors</th>\n",
       "      <th>Num_multiplex</th>\n",
       "      <th>movie_rating</th>\n",
       "    </tr>\n",
       "  </thead>\n",
       "  <tbody>\n",
       "    <tr>\n",
       "      <th>0</th>\n",
       "      <td>1.0</td>\n",
       "      <td>48000</td>\n",
       "      <td>20.1264</td>\n",
       "      <td>59.62</td>\n",
       "      <td>0.462</td>\n",
       "      <td>36524.125</td>\n",
       "      <td>138.7</td>\n",
       "      <td>527367</td>\n",
       "      <td>109.60</td>\n",
       "      <td>223.8400</td>\n",
       "      <td>23</td>\n",
       "      <td>494</td>\n",
       "      <td>7.953</td>\n",
       "    </tr>\n",
       "    <tr>\n",
       "      <th>1</th>\n",
       "      <td>1.0</td>\n",
       "      <td>43200</td>\n",
       "      <td>20.5462</td>\n",
       "      <td>69.14</td>\n",
       "      <td>0.531</td>\n",
       "      <td>35668.655</td>\n",
       "      <td>152.4</td>\n",
       "      <td>494055</td>\n",
       "      <td>146.64</td>\n",
       "      <td>243.4560</td>\n",
       "      <td>42</td>\n",
       "      <td>462</td>\n",
       "      <td>7.501</td>\n",
       "    </tr>\n",
       "    <tr>\n",
       "      <th>2</th>\n",
       "      <td>1.0</td>\n",
       "      <td>69400</td>\n",
       "      <td>20.5458</td>\n",
       "      <td>69.14</td>\n",
       "      <td>0.531</td>\n",
       "      <td>39912.675</td>\n",
       "      <td>134.6</td>\n",
       "      <td>547051</td>\n",
       "      <td>147.88</td>\n",
       "      <td>923.9712</td>\n",
       "      <td>38</td>\n",
       "      <td>458</td>\n",
       "      <td>7.501</td>\n",
       "    </tr>\n",
       "    <tr>\n",
       "      <th>3</th>\n",
       "      <td>1.0</td>\n",
       "      <td>66800</td>\n",
       "      <td>20.6474</td>\n",
       "      <td>59.36</td>\n",
       "      <td>0.542</td>\n",
       "      <td>38873.890</td>\n",
       "      <td>119.3</td>\n",
       "      <td>516279</td>\n",
       "      <td>185.36</td>\n",
       "      <td>225.3440</td>\n",
       "      <td>45</td>\n",
       "      <td>472</td>\n",
       "      <td>7.226</td>\n",
       "    </tr>\n",
       "    <tr>\n",
       "      <th>4</th>\n",
       "      <td>1.0</td>\n",
       "      <td>72400</td>\n",
       "      <td>21.3810</td>\n",
       "      <td>59.36</td>\n",
       "      <td>0.542</td>\n",
       "      <td>39701.585</td>\n",
       "      <td>127.7</td>\n",
       "      <td>531448</td>\n",
       "      <td>176.48</td>\n",
       "      <td>225.7920</td>\n",
       "      <td>55</td>\n",
       "      <td>395</td>\n",
       "      <td>7.227</td>\n",
       "    </tr>\n",
       "  </tbody>\n",
       "</table>\n",
       "</div>"
      ],
      "text/plain": [
       "   const  Collection  Marketing expense  Production expense  \\\n",
       "0    1.0       48000            20.1264               59.62   \n",
       "1    1.0       43200            20.5462               69.14   \n",
       "2    1.0       69400            20.5458               69.14   \n",
       "3    1.0       66800            20.6474               59.36   \n",
       "4    1.0       72400            21.3810               59.36   \n",
       "\n",
       "   Multiplex coverage     Budget  Movie_length  Trailer_views  Time_taken  \\\n",
       "0               0.462  36524.125         138.7         527367      109.60   \n",
       "1               0.531  35668.655         152.4         494055      146.64   \n",
       "2               0.531  39912.675         134.6         547051      147.88   \n",
       "3               0.542  38873.890         119.3         516279      185.36   \n",
       "4               0.542  39701.585         127.7         531448      176.48   \n",
       "\n",
       "   Twitter_hastags  Avg_age_actors  Num_multiplex  movie_rating  \n",
       "0         223.8400              23            494         7.953  \n",
       "1         243.4560              42            462         7.501  \n",
       "2         923.9712              38            458         7.501  \n",
       "3         225.3440              45            472         7.226  \n",
       "4         225.7920              55            395         7.227  "
      ]
     },
     "execution_count": 43,
     "metadata": {},
     "output_type": "execute_result"
    }
   ],
   "source": [
    "x1.head()"
   ]
  },
  {
   "cell_type": "code",
   "execution_count": 44,
   "id": "17d6244f",
   "metadata": {},
   "outputs": [],
   "source": [
    "import statsmodels.discrete.discrete_model as sm"
   ]
  },
  {
   "cell_type": "code",
   "execution_count": 45,
   "id": "8494e81a",
   "metadata": {},
   "outputs": [
    {
     "name": "stdout",
     "output_type": "stream",
     "text": [
      "Optimization terminated successfully.\n",
      "         Current function value: 0.593449\n",
      "         Iterations 6\n"
     ]
    }
   ],
   "source": [
    "logic=sm.Logit(y,x1).fit()"
   ]
  },
  {
   "cell_type": "code",
   "execution_count": 46,
   "id": "05170a09",
   "metadata": {},
   "outputs": [
    {
     "data": {
      "text/html": [
       "<table class=\"simpletable\">\n",
       "<caption>Logit Regression Results</caption>\n",
       "<tr>\n",
       "  <th>Dep. Variable:</th>   <td>Start_Tech_Oscar</td> <th>  No. Observations:  </th>  <td>   506</td>  \n",
       "</tr>\n",
       "<tr>\n",
       "  <th>Model:</th>                 <td>Logit</td>      <th>  Df Residuals:      </th>  <td>   493</td>  \n",
       "</tr>\n",
       "<tr>\n",
       "  <th>Method:</th>                 <td>MLE</td>       <th>  Df Model:          </th>  <td>    12</td>  \n",
       "</tr>\n",
       "<tr>\n",
       "  <th>Date:</th>            <td>Wed, 20 Dec 2023</td> <th>  Pseudo R-squ.:     </th>  <td>0.1387</td>  \n",
       "</tr>\n",
       "<tr>\n",
       "  <th>Time:</th>                <td>21:35:20</td>     <th>  Log-Likelihood:    </th> <td> -300.29</td> \n",
       "</tr>\n",
       "<tr>\n",
       "  <th>converged:</th>             <td>True</td>       <th>  LL-Null:           </th> <td> -348.64</td> \n",
       "</tr>\n",
       "<tr>\n",
       "  <th>Covariance Type:</th>     <td>nonrobust</td>    <th>  LLR p-value:       </th> <td>2.453e-15</td>\n",
       "</tr>\n",
       "</table>\n",
       "<table class=\"simpletable\">\n",
       "<tr>\n",
       "           <td></td>             <th>coef</th>     <th>std err</th>      <th>z</th>      <th>P>|z|</th>  <th>[0.025</th>    <th>0.975]</th>  \n",
       "</tr>\n",
       "<tr>\n",
       "  <th>const</th>              <td>  -16.9776</td> <td>    3.722</td> <td>   -4.562</td> <td> 0.000</td> <td>  -24.272</td> <td>   -9.683</td>\n",
       "</tr>\n",
       "<tr>\n",
       "  <th>Collection</th>         <td>   -0.0001</td> <td> 1.37e-05</td> <td>   -7.354</td> <td> 0.000</td> <td>   -0.000</td> <td>-7.38e-05</td>\n",
       "</tr>\n",
       "<tr>\n",
       "  <th>Marketing expense</th>  <td>   -0.0008</td> <td>    0.001</td> <td>   -1.120</td> <td> 0.263</td> <td>   -0.002</td> <td>    0.001</td>\n",
       "</tr>\n",
       "<tr>\n",
       "  <th>Production expense</th> <td>   -0.0070</td> <td>    0.012</td> <td>   -0.563</td> <td> 0.573</td> <td>   -0.031</td> <td>    0.017</td>\n",
       "</tr>\n",
       "<tr>\n",
       "  <th>Multiplex coverage</th> <td>    4.2258</td> <td>    2.533</td> <td>    1.668</td> <td> 0.095</td> <td>   -0.738</td> <td>    9.190</td>\n",
       "</tr>\n",
       "<tr>\n",
       "  <th>Budget</th>             <td>    0.0002</td> <td> 4.66e-05</td> <td>    3.711</td> <td> 0.000</td> <td> 8.16e-05</td> <td>    0.000</td>\n",
       "</tr>\n",
       "<tr>\n",
       "  <th>Movie_length</th>       <td>   -0.0080</td> <td>    0.006</td> <td>   -1.318</td> <td> 0.188</td> <td>   -0.020</td> <td>    0.004</td>\n",
       "</tr>\n",
       "<tr>\n",
       "  <th>Trailer_views</th>      <td> 1.509e-05</td> <td> 2.94e-06</td> <td>    5.138</td> <td> 0.000</td> <td> 9.33e-06</td> <td> 2.08e-05</td>\n",
       "</tr>\n",
       "<tr>\n",
       "  <th>Time_taken</th>         <td>    0.0063</td> <td>    0.003</td> <td>    1.937</td> <td> 0.053</td> <td>-7.65e-05</td> <td>    0.013</td>\n",
       "</tr>\n",
       "<tr>\n",
       "  <th>Twitter_hastags</th>    <td>   -0.0039</td> <td>    0.002</td> <td>   -1.597</td> <td> 0.110</td> <td>   -0.009</td> <td>    0.001</td>\n",
       "</tr>\n",
       "<tr>\n",
       "  <th>Avg_age_actors</th>     <td>   -0.0056</td> <td>    0.008</td> <td>   -0.706</td> <td> 0.480</td> <td>   -0.021</td> <td>    0.010</td>\n",
       "</tr>\n",
       "<tr>\n",
       "  <th>Num_multiplex</th>      <td>    0.0021</td> <td>    0.002</td> <td>    0.905</td> <td> 0.365</td> <td>   -0.002</td> <td>    0.007</td>\n",
       "</tr>\n",
       "<tr>\n",
       "  <th>movie_rating</th>       <td>    0.9153</td> <td>    0.227</td> <td>    4.040</td> <td> 0.000</td> <td>    0.471</td> <td>    1.359</td>\n",
       "</tr>\n",
       "</table>"
      ],
      "text/latex": [
       "\\begin{center}\n",
       "\\begin{tabular}{lclc}\n",
       "\\toprule\n",
       "\\textbf{Dep. Variable:}     & Start\\_Tech\\_Oscar & \\textbf{  No. Observations:  } &      506    \\\\\n",
       "\\textbf{Model:}             &       Logit        & \\textbf{  Df Residuals:      } &      493    \\\\\n",
       "\\textbf{Method:}            &        MLE         & \\textbf{  Df Model:          } &       12    \\\\\n",
       "\\textbf{Date:}              &  Wed, 20 Dec 2023  & \\textbf{  Pseudo R-squ.:     } &   0.1387    \\\\\n",
       "\\textbf{Time:}              &      21:35:20      & \\textbf{  Log-Likelihood:    } &   -300.29   \\\\\n",
       "\\textbf{converged:}         &        True        & \\textbf{  LL-Null:           } &   -348.64   \\\\\n",
       "\\textbf{Covariance Type:}   &     nonrobust      & \\textbf{  LLR p-value:       } & 2.453e-15   \\\\\n",
       "\\bottomrule\n",
       "\\end{tabular}\n",
       "\\begin{tabular}{lcccccc}\n",
       "                            & \\textbf{coef} & \\textbf{std err} & \\textbf{z} & \\textbf{P$> |$z$|$} & \\textbf{[0.025} & \\textbf{0.975]}  \\\\\n",
       "\\midrule\n",
       "\\textbf{const}              &     -16.9776  &        3.722     &    -4.562  &         0.000        &      -24.272    &       -9.683     \\\\\n",
       "\\textbf{Collection}         &      -0.0001  &     1.37e-05     &    -7.354  &         0.000        &       -0.000    &    -7.38e-05     \\\\\n",
       "\\textbf{Marketing expense}  &      -0.0008  &        0.001     &    -1.120  &         0.263        &       -0.002    &        0.001     \\\\\n",
       "\\textbf{Production expense} &      -0.0070  &        0.012     &    -0.563  &         0.573        &       -0.031    &        0.017     \\\\\n",
       "\\textbf{Multiplex coverage} &       4.2258  &        2.533     &     1.668  &         0.095        &       -0.738    &        9.190     \\\\\n",
       "\\textbf{Budget}             &       0.0002  &     4.66e-05     &     3.711  &         0.000        &     8.16e-05    &        0.000     \\\\\n",
       "\\textbf{Movie\\_length}      &      -0.0080  &        0.006     &    -1.318  &         0.188        &       -0.020    &        0.004     \\\\\n",
       "\\textbf{Trailer\\_views}     &    1.509e-05  &     2.94e-06     &     5.138  &         0.000        &     9.33e-06    &     2.08e-05     \\\\\n",
       "\\textbf{Time\\_taken}        &       0.0063  &        0.003     &     1.937  &         0.053        &    -7.65e-05    &        0.013     \\\\\n",
       "\\textbf{Twitter\\_hastags}   &      -0.0039  &        0.002     &    -1.597  &         0.110        &       -0.009    &        0.001     \\\\\n",
       "\\textbf{Avg\\_age\\_actors}   &      -0.0056  &        0.008     &    -0.706  &         0.480        &       -0.021    &        0.010     \\\\\n",
       "\\textbf{Num\\_multiplex}     &       0.0021  &        0.002     &     0.905  &         0.365        &       -0.002    &        0.007     \\\\\n",
       "\\textbf{movie\\_rating}      &       0.9153  &        0.227     &     4.040  &         0.000        &        0.471    &        1.359     \\\\\n",
       "\\bottomrule\n",
       "\\end{tabular}\n",
       "%\\caption{Logit Regression Results}\n",
       "\\end{center}"
      ],
      "text/plain": [
       "<class 'statsmodels.iolib.summary.Summary'>\n",
       "\"\"\"\n",
       "                           Logit Regression Results                           \n",
       "==============================================================================\n",
       "Dep. Variable:       Start_Tech_Oscar   No. Observations:                  506\n",
       "Model:                          Logit   Df Residuals:                      493\n",
       "Method:                           MLE   Df Model:                           12\n",
       "Date:                Wed, 20 Dec 2023   Pseudo R-squ.:                  0.1387\n",
       "Time:                        21:35:20   Log-Likelihood:                -300.29\n",
       "converged:                       True   LL-Null:                       -348.64\n",
       "Covariance Type:            nonrobust   LLR p-value:                 2.453e-15\n",
       "======================================================================================\n",
       "                         coef    std err          z      P>|z|      [0.025      0.975]\n",
       "--------------------------------------------------------------------------------------\n",
       "const                -16.9776      3.722     -4.562      0.000     -24.272      -9.683\n",
       "Collection            -0.0001   1.37e-05     -7.354      0.000      -0.000   -7.38e-05\n",
       "Marketing expense     -0.0008      0.001     -1.120      0.263      -0.002       0.001\n",
       "Production expense    -0.0070      0.012     -0.563      0.573      -0.031       0.017\n",
       "Multiplex coverage     4.2258      2.533      1.668      0.095      -0.738       9.190\n",
       "Budget                 0.0002   4.66e-05      3.711      0.000    8.16e-05       0.000\n",
       "Movie_length          -0.0080      0.006     -1.318      0.188      -0.020       0.004\n",
       "Trailer_views       1.509e-05   2.94e-06      5.138      0.000    9.33e-06    2.08e-05\n",
       "Time_taken             0.0063      0.003      1.937      0.053   -7.65e-05       0.013\n",
       "Twitter_hastags       -0.0039      0.002     -1.597      0.110      -0.009       0.001\n",
       "Avg_age_actors        -0.0056      0.008     -0.706      0.480      -0.021       0.010\n",
       "Num_multiplex          0.0021      0.002      0.905      0.365      -0.002       0.007\n",
       "movie_rating           0.9153      0.227      4.040      0.000       0.471       1.359\n",
       "======================================================================================\n",
       "\"\"\""
      ]
     },
     "execution_count": 46,
     "metadata": {},
     "output_type": "execute_result"
    }
   ],
   "source": [
    "logic.summary()"
   ]
  },
  {
   "cell_type": "code",
   "execution_count": 47,
   "id": "51b2c223",
   "metadata": {},
   "outputs": [
    {
     "data": {
      "text/plain": [
       "array([[0.33866269, 0.66133731],\n",
       "       [0.38611935, 0.61388065],\n",
       "       [0.99853579, 0.00146421],\n",
       "       ...,\n",
       "       [0.3740696 , 0.6259304 ],\n",
       "       [0.53541915, 0.46458085],\n",
       "       [0.24834159, 0.75165841]])"
      ]
     },
     "execution_count": 47,
     "metadata": {},
     "output_type": "execute_result"
    }
   ],
   "source": [
    "re.predict_proba(x)"
   ]
  },
  {
   "cell_type": "code",
   "execution_count": 48,
   "id": "d9e0d21d",
   "metadata": {},
   "outputs": [],
   "source": [
    "ypre=re.predict(x)"
   ]
  },
  {
   "cell_type": "code",
   "execution_count": 49,
   "id": "b2f7bdad",
   "metadata": {},
   "outputs": [],
   "source": [
    "ypre_03=(re.predict_proba(x)[:1]>.3).astype(bool)"
   ]
  },
  {
   "cell_type": "code",
   "execution_count": 50,
   "id": "fa9b3063",
   "metadata": {},
   "outputs": [
    {
     "data": {
      "text/plain": [
       "array([[ True,  True]])"
      ]
     },
     "execution_count": 50,
     "metadata": {},
     "output_type": "execute_result"
    }
   ],
   "source": [
    "ypre_03"
   ]
  },
  {
   "cell_type": "code",
   "execution_count": 51,
   "id": "4658616f",
   "metadata": {},
   "outputs": [],
   "source": [
    "from sklearn.metrics import accuracy_score, confusion_matrix"
   ]
  },
  {
   "cell_type": "code",
   "execution_count": 52,
   "id": "f668be07",
   "metadata": {},
   "outputs": [
    {
     "data": {
      "text/plain": [
       "array([[181,  95],\n",
       "       [102, 128]], dtype=int64)"
      ]
     },
     "execution_count": 52,
     "metadata": {},
     "output_type": "execute_result"
    }
   ],
   "source": [
    "confusion_matrix(y,ypre)"
   ]
  },
  {
   "cell_type": "code",
   "execution_count": 53,
   "id": "df250750",
   "metadata": {},
   "outputs": [],
   "source": [
    "from sklearn.discriminant_analysis import LinearDiscriminantAnalysis"
   ]
  },
  {
   "cell_type": "code",
   "execution_count": 54,
   "id": "c55fbd1d",
   "metadata": {},
   "outputs": [],
   "source": [
    "lda=LinearDiscriminantAnalysis()"
   ]
  },
  {
   "cell_type": "code",
   "execution_count": 55,
   "id": "ec20d20a",
   "metadata": {},
   "outputs": [
    {
     "data": {
      "text/html": [
       "<style>#sk-container-id-2 {color: black;}#sk-container-id-2 pre{padding: 0;}#sk-container-id-2 div.sk-toggleable {background-color: white;}#sk-container-id-2 label.sk-toggleable__label {cursor: pointer;display: block;width: 100%;margin-bottom: 0;padding: 0.3em;box-sizing: border-box;text-align: center;}#sk-container-id-2 label.sk-toggleable__label-arrow:before {content: \"▸\";float: left;margin-right: 0.25em;color: #696969;}#sk-container-id-2 label.sk-toggleable__label-arrow:hover:before {color: black;}#sk-container-id-2 div.sk-estimator:hover label.sk-toggleable__label-arrow:before {color: black;}#sk-container-id-2 div.sk-toggleable__content {max-height: 0;max-width: 0;overflow: hidden;text-align: left;background-color: #f0f8ff;}#sk-container-id-2 div.sk-toggleable__content pre {margin: 0.2em;color: black;border-radius: 0.25em;background-color: #f0f8ff;}#sk-container-id-2 input.sk-toggleable__control:checked~div.sk-toggleable__content {max-height: 200px;max-width: 100%;overflow: auto;}#sk-container-id-2 input.sk-toggleable__control:checked~label.sk-toggleable__label-arrow:before {content: \"▾\";}#sk-container-id-2 div.sk-estimator input.sk-toggleable__control:checked~label.sk-toggleable__label {background-color: #d4ebff;}#sk-container-id-2 div.sk-label input.sk-toggleable__control:checked~label.sk-toggleable__label {background-color: #d4ebff;}#sk-container-id-2 input.sk-hidden--visually {border: 0;clip: rect(1px 1px 1px 1px);clip: rect(1px, 1px, 1px, 1px);height: 1px;margin: -1px;overflow: hidden;padding: 0;position: absolute;width: 1px;}#sk-container-id-2 div.sk-estimator {font-family: monospace;background-color: #f0f8ff;border: 1px dotted black;border-radius: 0.25em;box-sizing: border-box;margin-bottom: 0.5em;}#sk-container-id-2 div.sk-estimator:hover {background-color: #d4ebff;}#sk-container-id-2 div.sk-parallel-item::after {content: \"\";width: 100%;border-bottom: 1px solid gray;flex-grow: 1;}#sk-container-id-2 div.sk-label:hover label.sk-toggleable__label {background-color: #d4ebff;}#sk-container-id-2 div.sk-serial::before {content: \"\";position: absolute;border-left: 1px solid gray;box-sizing: border-box;top: 0;bottom: 0;left: 50%;z-index: 0;}#sk-container-id-2 div.sk-serial {display: flex;flex-direction: column;align-items: center;background-color: white;padding-right: 0.2em;padding-left: 0.2em;position: relative;}#sk-container-id-2 div.sk-item {position: relative;z-index: 1;}#sk-container-id-2 div.sk-parallel {display: flex;align-items: stretch;justify-content: center;background-color: white;position: relative;}#sk-container-id-2 div.sk-item::before, #sk-container-id-2 div.sk-parallel-item::before {content: \"\";position: absolute;border-left: 1px solid gray;box-sizing: border-box;top: 0;bottom: 0;left: 50%;z-index: -1;}#sk-container-id-2 div.sk-parallel-item {display: flex;flex-direction: column;z-index: 1;position: relative;background-color: white;}#sk-container-id-2 div.sk-parallel-item:first-child::after {align-self: flex-end;width: 50%;}#sk-container-id-2 div.sk-parallel-item:last-child::after {align-self: flex-start;width: 50%;}#sk-container-id-2 div.sk-parallel-item:only-child::after {width: 0;}#sk-container-id-2 div.sk-dashed-wrapped {border: 1px dashed gray;margin: 0 0.4em 0.5em 0.4em;box-sizing: border-box;padding-bottom: 0.4em;background-color: white;}#sk-container-id-2 div.sk-label label {font-family: monospace;font-weight: bold;display: inline-block;line-height: 1.2em;}#sk-container-id-2 div.sk-label-container {text-align: center;}#sk-container-id-2 div.sk-container {/* jupyter's `normalize.less` sets `[hidden] { display: none; }` but bootstrap.min.css set `[hidden] { display: none !important; }` so we also need the `!important` here to be able to override the default hidden behavior on the sphinx rendered scikit-learn.org. See: https://github.com/scikit-learn/scikit-learn/issues/21755 */display: inline-block !important;position: relative;}#sk-container-id-2 div.sk-text-repr-fallback {display: none;}</style><div id=\"sk-container-id-2\" class=\"sk-top-container\"><div class=\"sk-text-repr-fallback\"><pre>LinearDiscriminantAnalysis()</pre><b>In a Jupyter environment, please rerun this cell to show the HTML representation or trust the notebook. <br />On GitHub, the HTML representation is unable to render, please try loading this page with nbviewer.org.</b></div><div class=\"sk-container\" hidden><div class=\"sk-item\"><div class=\"sk-estimator sk-toggleable\"><input class=\"sk-toggleable__control sk-hidden--visually\" id=\"sk-estimator-id-2\" type=\"checkbox\" checked><label for=\"sk-estimator-id-2\" class=\"sk-toggleable__label sk-toggleable__label-arrow\">LinearDiscriminantAnalysis</label><div class=\"sk-toggleable__content\"><pre>LinearDiscriminantAnalysis()</pre></div></div></div></div></div>"
      ],
      "text/plain": [
       "LinearDiscriminantAnalysis()"
      ]
     },
     "execution_count": 55,
     "metadata": {},
     "output_type": "execute_result"
    }
   ],
   "source": [
    "lda.fit(x,y)"
   ]
  },
  {
   "cell_type": "code",
   "execution_count": 56,
   "id": "1279da27",
   "metadata": {},
   "outputs": [],
   "source": [
    "prelda=lda.predict(x)"
   ]
  },
  {
   "cell_type": "code",
   "execution_count": 57,
   "id": "7ecffcf2",
   "metadata": {},
   "outputs": [
    {
     "data": {
      "text/plain": [
       "array([1, 1, 0, 0, 0, 0, 0, 0, 0, 0, 0, 0, 0, 0, 1, 1, 1, 0, 0, 1, 0, 1,\n",
       "       0, 0, 0, 1, 0, 0, 1, 1, 0, 1, 0, 1, 1, 1, 1, 1, 1, 1, 0, 1, 0, 0,\n",
       "       1, 1, 1, 0, 0, 0, 0, 1, 1, 1, 0, 0, 0, 0, 0, 0, 0, 0, 0, 0, 0, 1,\n",
       "       1, 0, 1, 1, 1, 1, 1, 1, 1, 1, 1, 1, 0, 1, 0, 1, 1, 1, 0, 1, 0, 1,\n",
       "       1, 1, 1, 1, 1, 1, 1, 1, 1, 0, 1, 0, 0, 1, 1, 1, 1, 0, 0, 0, 1, 1,\n",
       "       0, 1, 0, 1, 1, 1, 1, 1, 0, 1, 1, 1, 0, 0, 0, 1, 0, 0, 1, 1, 1, 1,\n",
       "       0, 1, 1, 1, 1, 1, 1, 1, 0, 0, 0, 0, 0, 0, 0, 0, 0, 0, 0, 0, 1, 0,\n",
       "       1, 1, 0, 0, 1, 0, 1, 0, 0, 0, 1, 1, 0, 1, 1, 0, 1, 1, 0, 1, 1, 0,\n",
       "       1, 1, 1, 0, 0, 0, 0, 0, 0, 0, 0, 0, 1, 1, 0, 0, 0, 0, 1, 0, 0, 0,\n",
       "       0, 0, 0, 1, 0, 0, 0, 1, 0, 0, 0, 0, 0, 0, 0, 1, 0, 0, 0, 0, 0, 0,\n",
       "       1, 0, 1, 0, 0, 0, 1, 1, 0, 1, 1, 1, 0, 0, 1, 1, 1, 1, 1, 0, 0, 0,\n",
       "       0, 1, 0, 0, 0, 0, 0, 1, 0, 1, 0, 0, 0, 0, 0, 0, 0, 0, 0, 0, 0, 0,\n",
       "       0, 0, 0, 0, 0, 1, 0, 1, 1, 0, 1, 1, 0, 0, 1, 1, 0, 0, 0, 0, 0, 1,\n",
       "       0, 1, 0, 0, 1, 0, 1, 0, 1, 1, 0, 0, 1, 0, 1, 1, 1, 1, 0, 0, 1, 1,\n",
       "       1, 1, 1, 1, 1, 1, 1, 1, 0, 0, 1, 1, 1, 1, 1, 0, 1, 1, 1, 0, 1, 1,\n",
       "       1, 1, 1, 1, 0, 0, 1, 1, 1, 0, 1, 0, 1, 0, 1, 1, 0, 0, 0, 0, 0, 0,\n",
       "       0, 0, 0, 0, 0, 0, 0, 0, 0, 0, 0, 1, 1, 0, 0, 0, 0, 0, 0, 0, 0, 0,\n",
       "       0, 1, 1, 1, 1, 1, 1, 1, 1, 0, 0, 0, 0, 0, 0, 0, 1, 0, 0, 1, 1, 1,\n",
       "       1, 1, 0, 0, 1, 1, 1, 1, 0, 1, 0, 0, 0, 0, 1, 1, 0, 0, 0, 1, 1, 0,\n",
       "       1, 1, 0, 1, 1, 0, 1, 1, 1, 1, 1, 1, 1, 1, 1, 1, 1, 1, 1, 1, 0, 0,\n",
       "       1, 0, 1, 0, 0, 0, 1, 1, 1, 1, 1, 1, 0, 1, 1, 1, 0, 1, 1, 0, 1, 1,\n",
       "       0, 1, 0, 0, 0, 0, 0, 0, 0, 1, 0, 0, 1, 1, 0, 0, 0, 1, 0, 1, 1, 1,\n",
       "       0, 1, 0, 1, 1, 1, 0, 0, 0, 0, 0, 0, 0, 0, 0, 1, 1, 1, 1, 1, 1, 1],\n",
       "      dtype=int64)"
      ]
     },
     "execution_count": 57,
     "metadata": {},
     "output_type": "execute_result"
    }
   ],
   "source": [
    "prelda"
   ]
  },
  {
   "cell_type": "code",
   "execution_count": 58,
   "id": "dcc7d6c5",
   "metadata": {},
   "outputs": [
    {
     "data": {
      "text/plain": [
       "array([[182,  94],\n",
       "       [ 81, 149]], dtype=int64)"
      ]
     },
     "execution_count": 58,
     "metadata": {},
     "output_type": "execute_result"
    }
   ],
   "source": [
    "confusion_matrix(y,prelda)"
   ]
  },
  {
   "cell_type": "code",
   "execution_count": 59,
   "id": "659d4f19",
   "metadata": {},
   "outputs": [],
   "source": [
    "from sklearn.model_selection import train_test_split"
   ]
  },
  {
   "cell_type": "code",
   "execution_count": 60,
   "id": "6340204c",
   "metadata": {},
   "outputs": [],
   "source": [
    "x_train,x_test,y_train,y_test=train_test_split(x,y,test_size=0.2,random_state=42)"
   ]
  },
  {
   "cell_type": "code",
   "execution_count": 61,
   "id": "6aaf87c0",
   "metadata": {},
   "outputs": [
    {
     "name": "stdout",
     "output_type": "stream",
     "text": [
      "(404, 12) (102, 12) (404,) (102,)\n"
     ]
    }
   ],
   "source": [
    "print(x_train.shape,x_test.shape,y_train.shape,y_test.shape)"
   ]
  },
  {
   "cell_type": "code",
   "execution_count": 62,
   "id": "6e3218ac",
   "metadata": {},
   "outputs": [],
   "source": [
    "linear=LogisticRegression()"
   ]
  },
  {
   "cell_type": "code",
   "execution_count": 63,
   "id": "d4e9eb44",
   "metadata": {},
   "outputs": [],
   "source": [
    "analysis=LinearDiscriminantAnalysis()"
   ]
  },
  {
   "cell_type": "code",
   "execution_count": 64,
   "id": "ab0a01b5",
   "metadata": {},
   "outputs": [
    {
     "data": {
      "text/html": [
       "<style>#sk-container-id-3 {color: black;}#sk-container-id-3 pre{padding: 0;}#sk-container-id-3 div.sk-toggleable {background-color: white;}#sk-container-id-3 label.sk-toggleable__label {cursor: pointer;display: block;width: 100%;margin-bottom: 0;padding: 0.3em;box-sizing: border-box;text-align: center;}#sk-container-id-3 label.sk-toggleable__label-arrow:before {content: \"▸\";float: left;margin-right: 0.25em;color: #696969;}#sk-container-id-3 label.sk-toggleable__label-arrow:hover:before {color: black;}#sk-container-id-3 div.sk-estimator:hover label.sk-toggleable__label-arrow:before {color: black;}#sk-container-id-3 div.sk-toggleable__content {max-height: 0;max-width: 0;overflow: hidden;text-align: left;background-color: #f0f8ff;}#sk-container-id-3 div.sk-toggleable__content pre {margin: 0.2em;color: black;border-radius: 0.25em;background-color: #f0f8ff;}#sk-container-id-3 input.sk-toggleable__control:checked~div.sk-toggleable__content {max-height: 200px;max-width: 100%;overflow: auto;}#sk-container-id-3 input.sk-toggleable__control:checked~label.sk-toggleable__label-arrow:before {content: \"▾\";}#sk-container-id-3 div.sk-estimator input.sk-toggleable__control:checked~label.sk-toggleable__label {background-color: #d4ebff;}#sk-container-id-3 div.sk-label input.sk-toggleable__control:checked~label.sk-toggleable__label {background-color: #d4ebff;}#sk-container-id-3 input.sk-hidden--visually {border: 0;clip: rect(1px 1px 1px 1px);clip: rect(1px, 1px, 1px, 1px);height: 1px;margin: -1px;overflow: hidden;padding: 0;position: absolute;width: 1px;}#sk-container-id-3 div.sk-estimator {font-family: monospace;background-color: #f0f8ff;border: 1px dotted black;border-radius: 0.25em;box-sizing: border-box;margin-bottom: 0.5em;}#sk-container-id-3 div.sk-estimator:hover {background-color: #d4ebff;}#sk-container-id-3 div.sk-parallel-item::after {content: \"\";width: 100%;border-bottom: 1px solid gray;flex-grow: 1;}#sk-container-id-3 div.sk-label:hover label.sk-toggleable__label {background-color: #d4ebff;}#sk-container-id-3 div.sk-serial::before {content: \"\";position: absolute;border-left: 1px solid gray;box-sizing: border-box;top: 0;bottom: 0;left: 50%;z-index: 0;}#sk-container-id-3 div.sk-serial {display: flex;flex-direction: column;align-items: center;background-color: white;padding-right: 0.2em;padding-left: 0.2em;position: relative;}#sk-container-id-3 div.sk-item {position: relative;z-index: 1;}#sk-container-id-3 div.sk-parallel {display: flex;align-items: stretch;justify-content: center;background-color: white;position: relative;}#sk-container-id-3 div.sk-item::before, #sk-container-id-3 div.sk-parallel-item::before {content: \"\";position: absolute;border-left: 1px solid gray;box-sizing: border-box;top: 0;bottom: 0;left: 50%;z-index: -1;}#sk-container-id-3 div.sk-parallel-item {display: flex;flex-direction: column;z-index: 1;position: relative;background-color: white;}#sk-container-id-3 div.sk-parallel-item:first-child::after {align-self: flex-end;width: 50%;}#sk-container-id-3 div.sk-parallel-item:last-child::after {align-self: flex-start;width: 50%;}#sk-container-id-3 div.sk-parallel-item:only-child::after {width: 0;}#sk-container-id-3 div.sk-dashed-wrapped {border: 1px dashed gray;margin: 0 0.4em 0.5em 0.4em;box-sizing: border-box;padding-bottom: 0.4em;background-color: white;}#sk-container-id-3 div.sk-label label {font-family: monospace;font-weight: bold;display: inline-block;line-height: 1.2em;}#sk-container-id-3 div.sk-label-container {text-align: center;}#sk-container-id-3 div.sk-container {/* jupyter's `normalize.less` sets `[hidden] { display: none; }` but bootstrap.min.css set `[hidden] { display: none !important; }` so we also need the `!important` here to be able to override the default hidden behavior on the sphinx rendered scikit-learn.org. See: https://github.com/scikit-learn/scikit-learn/issues/21755 */display: inline-block !important;position: relative;}#sk-container-id-3 div.sk-text-repr-fallback {display: none;}</style><div id=\"sk-container-id-3\" class=\"sk-top-container\"><div class=\"sk-text-repr-fallback\"><pre>LogisticRegression()</pre><b>In a Jupyter environment, please rerun this cell to show the HTML representation or trust the notebook. <br />On GitHub, the HTML representation is unable to render, please try loading this page with nbviewer.org.</b></div><div class=\"sk-container\" hidden><div class=\"sk-item\"><div class=\"sk-estimator sk-toggleable\"><input class=\"sk-toggleable__control sk-hidden--visually\" id=\"sk-estimator-id-3\" type=\"checkbox\" checked><label for=\"sk-estimator-id-3\" class=\"sk-toggleable__label sk-toggleable__label-arrow\">LogisticRegression</label><div class=\"sk-toggleable__content\"><pre>LogisticRegression()</pre></div></div></div></div></div>"
      ],
      "text/plain": [
       "LogisticRegression()"
      ]
     },
     "execution_count": 64,
     "metadata": {},
     "output_type": "execute_result"
    }
   ],
   "source": [
    "linear.fit(x_train,y_train)"
   ]
  },
  {
   "cell_type": "code",
   "execution_count": 65,
   "id": "e435884f",
   "metadata": {},
   "outputs": [
    {
     "data": {
      "text/html": [
       "<style>#sk-container-id-4 {color: black;}#sk-container-id-4 pre{padding: 0;}#sk-container-id-4 div.sk-toggleable {background-color: white;}#sk-container-id-4 label.sk-toggleable__label {cursor: pointer;display: block;width: 100%;margin-bottom: 0;padding: 0.3em;box-sizing: border-box;text-align: center;}#sk-container-id-4 label.sk-toggleable__label-arrow:before {content: \"▸\";float: left;margin-right: 0.25em;color: #696969;}#sk-container-id-4 label.sk-toggleable__label-arrow:hover:before {color: black;}#sk-container-id-4 div.sk-estimator:hover label.sk-toggleable__label-arrow:before {color: black;}#sk-container-id-4 div.sk-toggleable__content {max-height: 0;max-width: 0;overflow: hidden;text-align: left;background-color: #f0f8ff;}#sk-container-id-4 div.sk-toggleable__content pre {margin: 0.2em;color: black;border-radius: 0.25em;background-color: #f0f8ff;}#sk-container-id-4 input.sk-toggleable__control:checked~div.sk-toggleable__content {max-height: 200px;max-width: 100%;overflow: auto;}#sk-container-id-4 input.sk-toggleable__control:checked~label.sk-toggleable__label-arrow:before {content: \"▾\";}#sk-container-id-4 div.sk-estimator input.sk-toggleable__control:checked~label.sk-toggleable__label {background-color: #d4ebff;}#sk-container-id-4 div.sk-label input.sk-toggleable__control:checked~label.sk-toggleable__label {background-color: #d4ebff;}#sk-container-id-4 input.sk-hidden--visually {border: 0;clip: rect(1px 1px 1px 1px);clip: rect(1px, 1px, 1px, 1px);height: 1px;margin: -1px;overflow: hidden;padding: 0;position: absolute;width: 1px;}#sk-container-id-4 div.sk-estimator {font-family: monospace;background-color: #f0f8ff;border: 1px dotted black;border-radius: 0.25em;box-sizing: border-box;margin-bottom: 0.5em;}#sk-container-id-4 div.sk-estimator:hover {background-color: #d4ebff;}#sk-container-id-4 div.sk-parallel-item::after {content: \"\";width: 100%;border-bottom: 1px solid gray;flex-grow: 1;}#sk-container-id-4 div.sk-label:hover label.sk-toggleable__label {background-color: #d4ebff;}#sk-container-id-4 div.sk-serial::before {content: \"\";position: absolute;border-left: 1px solid gray;box-sizing: border-box;top: 0;bottom: 0;left: 50%;z-index: 0;}#sk-container-id-4 div.sk-serial {display: flex;flex-direction: column;align-items: center;background-color: white;padding-right: 0.2em;padding-left: 0.2em;position: relative;}#sk-container-id-4 div.sk-item {position: relative;z-index: 1;}#sk-container-id-4 div.sk-parallel {display: flex;align-items: stretch;justify-content: center;background-color: white;position: relative;}#sk-container-id-4 div.sk-item::before, #sk-container-id-4 div.sk-parallel-item::before {content: \"\";position: absolute;border-left: 1px solid gray;box-sizing: border-box;top: 0;bottom: 0;left: 50%;z-index: -1;}#sk-container-id-4 div.sk-parallel-item {display: flex;flex-direction: column;z-index: 1;position: relative;background-color: white;}#sk-container-id-4 div.sk-parallel-item:first-child::after {align-self: flex-end;width: 50%;}#sk-container-id-4 div.sk-parallel-item:last-child::after {align-self: flex-start;width: 50%;}#sk-container-id-4 div.sk-parallel-item:only-child::after {width: 0;}#sk-container-id-4 div.sk-dashed-wrapped {border: 1px dashed gray;margin: 0 0.4em 0.5em 0.4em;box-sizing: border-box;padding-bottom: 0.4em;background-color: white;}#sk-container-id-4 div.sk-label label {font-family: monospace;font-weight: bold;display: inline-block;line-height: 1.2em;}#sk-container-id-4 div.sk-label-container {text-align: center;}#sk-container-id-4 div.sk-container {/* jupyter's `normalize.less` sets `[hidden] { display: none; }` but bootstrap.min.css set `[hidden] { display: none !important; }` so we also need the `!important` here to be able to override the default hidden behavior on the sphinx rendered scikit-learn.org. See: https://github.com/scikit-learn/scikit-learn/issues/21755 */display: inline-block !important;position: relative;}#sk-container-id-4 div.sk-text-repr-fallback {display: none;}</style><div id=\"sk-container-id-4\" class=\"sk-top-container\"><div class=\"sk-text-repr-fallback\"><pre>LinearDiscriminantAnalysis()</pre><b>In a Jupyter environment, please rerun this cell to show the HTML representation or trust the notebook. <br />On GitHub, the HTML representation is unable to render, please try loading this page with nbviewer.org.</b></div><div class=\"sk-container\" hidden><div class=\"sk-item\"><div class=\"sk-estimator sk-toggleable\"><input class=\"sk-toggleable__control sk-hidden--visually\" id=\"sk-estimator-id-4\" type=\"checkbox\" checked><label for=\"sk-estimator-id-4\" class=\"sk-toggleable__label sk-toggleable__label-arrow\">LinearDiscriminantAnalysis</label><div class=\"sk-toggleable__content\"><pre>LinearDiscriminantAnalysis()</pre></div></div></div></div></div>"
      ],
      "text/plain": [
       "LinearDiscriminantAnalysis()"
      ]
     },
     "execution_count": 65,
     "metadata": {},
     "output_type": "execute_result"
    }
   ],
   "source": [
    "analysis.fit(x_train,y_train)"
   ]
  },
  {
   "cell_type": "code",
   "execution_count": 66,
   "id": "22271e80",
   "metadata": {},
   "outputs": [],
   "source": [
    "linearpredict=linear.predict(x_test)"
   ]
  },
  {
   "cell_type": "code",
   "execution_count": 67,
   "id": "4849b039",
   "metadata": {},
   "outputs": [],
   "source": [
    "analysispredict=analysis.predict(x_test)"
   ]
  },
  {
   "cell_type": "code",
   "execution_count": 68,
   "id": "179fec2b",
   "metadata": {},
   "outputs": [
    {
     "data": {
      "text/plain": [
       "array([0, 0, 1, 1, 0, 1, 0, 1, 1, 1, 0, 0, 0, 1, 1, 0, 0, 0, 0, 1, 1, 0,\n",
       "       1, 1, 1, 1, 1, 1, 0, 0, 0, 1, 1, 0, 0, 0, 0, 1, 0, 1, 0, 0, 0, 1,\n",
       "       1, 0, 1, 1, 0, 1, 1, 0, 1, 1, 0, 1, 0, 1, 1, 1, 1, 0, 0, 0, 1, 0,\n",
       "       1, 1, 0, 0, 1, 1, 1, 1, 1, 1, 1, 0, 1, 1, 1, 0, 1, 0, 1, 0, 1, 1,\n",
       "       1, 1, 0, 0, 1, 1, 0, 0, 0, 0, 1, 0, 0, 1], dtype=int64)"
      ]
     },
     "execution_count": 68,
     "metadata": {},
     "output_type": "execute_result"
    }
   ],
   "source": [
    "linearpredict"
   ]
  },
  {
   "cell_type": "code",
   "execution_count": 69,
   "id": "af42f367",
   "metadata": {},
   "outputs": [
    {
     "data": {
      "text/plain": [
       "array([1, 1, 1, 1, 1, 1, 0, 1, 1, 1, 0, 0, 0, 0, 0, 0, 0, 0, 0, 1, 1, 1,\n",
       "       0, 1, 1, 1, 1, 1, 0, 0, 0, 1, 1, 0, 0, 0, 0, 1, 0, 1, 0, 1, 0, 1,\n",
       "       1, 1, 0, 1, 0, 1, 0, 0, 0, 1, 0, 1, 0, 1, 0, 0, 0, 0, 1, 0, 0, 0,\n",
       "       1, 1, 1, 0, 1, 1, 0, 0, 1, 1, 1, 0, 1, 1, 1, 0, 0, 0, 1, 1, 1, 1,\n",
       "       1, 1, 1, 0, 1, 0, 0, 0, 0, 0, 1, 1, 0, 1], dtype=int64)"
      ]
     },
     "execution_count": 69,
     "metadata": {},
     "output_type": "execute_result"
    }
   ],
   "source": [
    "analysispredict"
   ]
  },
  {
   "cell_type": "code",
   "execution_count": 70,
   "id": "9c8ee7ce",
   "metadata": {},
   "outputs": [
    {
     "data": {
      "text/plain": [
       "array([[32, 28],\n",
       "       [14, 28]], dtype=int64)"
      ]
     },
     "execution_count": 70,
     "metadata": {},
     "output_type": "execute_result"
    }
   ],
   "source": [
    "confusion_matrix(y_test,linearpredict)"
   ]
  },
  {
   "cell_type": "code",
   "execution_count": 71,
   "id": "ebda4057",
   "metadata": {},
   "outputs": [
    {
     "data": {
      "text/plain": [
       "array([[37, 23],\n",
       "       [12, 30]], dtype=int64)"
      ]
     },
     "execution_count": 71,
     "metadata": {},
     "output_type": "execute_result"
    }
   ],
   "source": [
    "confusion_matrix(y_test,analysispredict)"
   ]
  },
  {
   "cell_type": "code",
   "execution_count": 72,
   "id": "85761b8c",
   "metadata": {},
   "outputs": [
    {
     "data": {
      "text/plain": [
       "0.5882352941176471"
      ]
     },
     "execution_count": 72,
     "metadata": {},
     "output_type": "execute_result"
    }
   ],
   "source": [
    "accuracy_score(y_test,linearpredict)"
   ]
  },
  {
   "cell_type": "code",
   "execution_count": 73,
   "id": "4c7f646c",
   "metadata": {},
   "outputs": [
    {
     "data": {
      "text/plain": [
       "0.6568627450980392"
      ]
     },
     "execution_count": 73,
     "metadata": {},
     "output_type": "execute_result"
    }
   ],
   "source": [
    "accuracy_score(y_test,analysispredict)"
   ]
  },
  {
   "cell_type": "code",
   "execution_count": 74,
   "id": "8bde604f",
   "metadata": {},
   "outputs": [],
   "source": [
    "from sklearn import preprocessing"
   ]
  },
  {
   "cell_type": "code",
   "execution_count": 76,
   "id": "91c0488d",
   "metadata": {},
   "outputs": [],
   "source": [
    "trainscale=preprocessing.StandardScaler().fit(x_train)"
   ]
  },
  {
   "cell_type": "code",
   "execution_count": 77,
   "id": "4b61a069",
   "metadata": {},
   "outputs": [],
   "source": [
    "trainscaler=trainscale.transform(x_train)"
   ]
  },
  {
   "cell_type": "code",
   "execution_count": 78,
   "id": "c464c5eb",
   "metadata": {},
   "outputs": [],
   "source": [
    "testscale=preprocessing.StandardScaler().fit(x_test)"
   ]
  },
  {
   "cell_type": "code",
   "execution_count": 79,
   "id": "e62aaa3a",
   "metadata": {},
   "outputs": [],
   "source": [
    "testscaler=testscale.transform(x_test)"
   ]
  },
  {
   "cell_type": "code",
   "execution_count": 80,
   "id": "85692dbf",
   "metadata": {},
   "outputs": [
    {
     "data": {
      "text/plain": [
       "array([[-1.16206495,  1.28770177,  1.03323679, ...,  0.0148266 ,\n",
       "         0.66961009,  0.60021644],\n",
       "       [-0.31217231, -0.33638447, -0.41315956, ..., -0.86369888,\n",
       "         0.46393934, -0.57746142],\n",
       "       [-0.36596298, -0.40325332, -0.71521823, ..., -1.34289459,\n",
       "        -0.28395429, -1.16392121],\n",
       "       ...,\n",
       "       [ 0.18270189, -0.40547014, -1.30336132, ...,  0.49402231,\n",
       "        -0.54571706, -1.97877912],\n",
       "       [-1.01145106,  0.85189733,  1.03323679, ...,  0.57388827,\n",
       "         2.06256197,  0.82742499],\n",
       "       [-0.45202806, -0.38135592, -0.35216694, ...,  1.45241374,\n",
       "        -0.04088886,  0.51337756]])"
      ]
     },
     "execution_count": 80,
     "metadata": {},
     "output_type": "execute_result"
    }
   ],
   "source": [
    "trainscaler"
   ]
  },
  {
   "cell_type": "code",
   "execution_count": 81,
   "id": "2251b2b1",
   "metadata": {},
   "outputs": [
    {
     "data": {
      "text/plain": [
       "array([[ 0.25059375, -0.47678706, -1.14921855, ...,  1.49097506,\n",
       "         0.07972718,  0.56335768],\n",
       "       [ 1.27534524, -0.48154797, -0.79642905, ..., -0.86369885,\n",
       "        -1.03587768,  0.03695071],\n",
       "       [-0.91389658, -0.47490641,  2.39213032, ...,  0.51662724,\n",
       "         0.30480535,  0.78258771],\n",
       "       ...,\n",
       "       [-0.49468006,  1.40372123,  0.95107489, ...,  0.27304028,\n",
       "         0.19715927,  1.20575264],\n",
       "       [ 0.12249982, -0.48216228, -1.08344424, ...,  0.76021419,\n",
       "        -0.58572134, -0.44102173],\n",
       "       [-0.00559412, -0.47633711,  0.16327799, ..., -1.02609015,\n",
       "        -1.46646202, -0.23581223]])"
      ]
     },
     "execution_count": 81,
     "metadata": {},
     "output_type": "execute_result"
    }
   ],
   "source": [
    "testscaler"
   ]
  },
  {
   "cell_type": "code",
   "execution_count": 82,
   "id": "c2d17300",
   "metadata": {},
   "outputs": [],
   "source": [
    "from sklearn.neighbors import KNeighborsClassifier"
   ]
  },
  {
   "cell_type": "code",
   "execution_count": 83,
   "id": "a8013083",
   "metadata": {},
   "outputs": [],
   "source": [
    "knn=KNeighborsClassifier(n_neighbors=1)"
   ]
  },
  {
   "cell_type": "code",
   "execution_count": 84,
   "id": "45a67503",
   "metadata": {},
   "outputs": [
    {
     "data": {
      "text/html": [
       "<style>#sk-container-id-6 {color: black;}#sk-container-id-6 pre{padding: 0;}#sk-container-id-6 div.sk-toggleable {background-color: white;}#sk-container-id-6 label.sk-toggleable__label {cursor: pointer;display: block;width: 100%;margin-bottom: 0;padding: 0.3em;box-sizing: border-box;text-align: center;}#sk-container-id-6 label.sk-toggleable__label-arrow:before {content: \"▸\";float: left;margin-right: 0.25em;color: #696969;}#sk-container-id-6 label.sk-toggleable__label-arrow:hover:before {color: black;}#sk-container-id-6 div.sk-estimator:hover label.sk-toggleable__label-arrow:before {color: black;}#sk-container-id-6 div.sk-toggleable__content {max-height: 0;max-width: 0;overflow: hidden;text-align: left;background-color: #f0f8ff;}#sk-container-id-6 div.sk-toggleable__content pre {margin: 0.2em;color: black;border-radius: 0.25em;background-color: #f0f8ff;}#sk-container-id-6 input.sk-toggleable__control:checked~div.sk-toggleable__content {max-height: 200px;max-width: 100%;overflow: auto;}#sk-container-id-6 input.sk-toggleable__control:checked~label.sk-toggleable__label-arrow:before {content: \"▾\";}#sk-container-id-6 div.sk-estimator input.sk-toggleable__control:checked~label.sk-toggleable__label {background-color: #d4ebff;}#sk-container-id-6 div.sk-label input.sk-toggleable__control:checked~label.sk-toggleable__label {background-color: #d4ebff;}#sk-container-id-6 input.sk-hidden--visually {border: 0;clip: rect(1px 1px 1px 1px);clip: rect(1px, 1px, 1px, 1px);height: 1px;margin: -1px;overflow: hidden;padding: 0;position: absolute;width: 1px;}#sk-container-id-6 div.sk-estimator {font-family: monospace;background-color: #f0f8ff;border: 1px dotted black;border-radius: 0.25em;box-sizing: border-box;margin-bottom: 0.5em;}#sk-container-id-6 div.sk-estimator:hover {background-color: #d4ebff;}#sk-container-id-6 div.sk-parallel-item::after {content: \"\";width: 100%;border-bottom: 1px solid gray;flex-grow: 1;}#sk-container-id-6 div.sk-label:hover label.sk-toggleable__label {background-color: #d4ebff;}#sk-container-id-6 div.sk-serial::before {content: \"\";position: absolute;border-left: 1px solid gray;box-sizing: border-box;top: 0;bottom: 0;left: 50%;z-index: 0;}#sk-container-id-6 div.sk-serial {display: flex;flex-direction: column;align-items: center;background-color: white;padding-right: 0.2em;padding-left: 0.2em;position: relative;}#sk-container-id-6 div.sk-item {position: relative;z-index: 1;}#sk-container-id-6 div.sk-parallel {display: flex;align-items: stretch;justify-content: center;background-color: white;position: relative;}#sk-container-id-6 div.sk-item::before, #sk-container-id-6 div.sk-parallel-item::before {content: \"\";position: absolute;border-left: 1px solid gray;box-sizing: border-box;top: 0;bottom: 0;left: 50%;z-index: -1;}#sk-container-id-6 div.sk-parallel-item {display: flex;flex-direction: column;z-index: 1;position: relative;background-color: white;}#sk-container-id-6 div.sk-parallel-item:first-child::after {align-self: flex-end;width: 50%;}#sk-container-id-6 div.sk-parallel-item:last-child::after {align-self: flex-start;width: 50%;}#sk-container-id-6 div.sk-parallel-item:only-child::after {width: 0;}#sk-container-id-6 div.sk-dashed-wrapped {border: 1px dashed gray;margin: 0 0.4em 0.5em 0.4em;box-sizing: border-box;padding-bottom: 0.4em;background-color: white;}#sk-container-id-6 div.sk-label label {font-family: monospace;font-weight: bold;display: inline-block;line-height: 1.2em;}#sk-container-id-6 div.sk-label-container {text-align: center;}#sk-container-id-6 div.sk-container {/* jupyter's `normalize.less` sets `[hidden] { display: none; }` but bootstrap.min.css set `[hidden] { display: none !important; }` so we also need the `!important` here to be able to override the default hidden behavior on the sphinx rendered scikit-learn.org. See: https://github.com/scikit-learn/scikit-learn/issues/21755 */display: inline-block !important;position: relative;}#sk-container-id-6 div.sk-text-repr-fallback {display: none;}</style><div id=\"sk-container-id-6\" class=\"sk-top-container\"><div class=\"sk-text-repr-fallback\"><pre>KNeighborsClassifier(n_neighbors=1)</pre><b>In a Jupyter environment, please rerun this cell to show the HTML representation or trust the notebook. <br />On GitHub, the HTML representation is unable to render, please try loading this page with nbviewer.org.</b></div><div class=\"sk-container\" hidden><div class=\"sk-item\"><div class=\"sk-estimator sk-toggleable\"><input class=\"sk-toggleable__control sk-hidden--visually\" id=\"sk-estimator-id-6\" type=\"checkbox\" checked><label for=\"sk-estimator-id-6\" class=\"sk-toggleable__label sk-toggleable__label-arrow\">KNeighborsClassifier</label><div class=\"sk-toggleable__content\"><pre>KNeighborsClassifier(n_neighbors=1)</pre></div></div></div></div></div>"
      ],
      "text/plain": [
       "KNeighborsClassifier(n_neighbors=1)"
      ]
     },
     "execution_count": 84,
     "metadata": {},
     "output_type": "execute_result"
    }
   ],
   "source": [
    "knn.fit(trainscaler,y_train)"
   ]
  },
  {
   "cell_type": "code",
   "execution_count": 85,
   "id": "a7832d62",
   "metadata": {},
   "outputs": [],
   "source": [
    "knnpredict=knn.predict(testscaler)"
   ]
  },
  {
   "cell_type": "code",
   "execution_count": 86,
   "id": "60200922",
   "metadata": {},
   "outputs": [
    {
     "data": {
      "text/plain": [
       "array([0, 1, 1, 0, 1, 1, 1, 1, 0, 1, 0, 0, 1, 0, 0, 1, 1, 0, 0, 1, 0, 1,\n",
       "       0, 0, 0, 1, 0, 1, 1, 0, 1, 0, 0, 0, 1, 0, 0, 1, 0, 0, 0, 0, 0, 0,\n",
       "       0, 1, 1, 0, 1, 0, 0, 0, 1, 0, 0, 1, 0, 0, 1, 1, 0, 0, 0, 1, 0, 1,\n",
       "       1, 0, 0, 0, 1, 1, 1, 0, 1, 1, 1, 0, 0, 1, 0, 1, 0, 0, 1, 0, 1, 1,\n",
       "       0, 1, 0, 0, 1, 0, 0, 1, 0, 0, 1, 0, 1, 0], dtype=int64)"
      ]
     },
     "execution_count": 86,
     "metadata": {},
     "output_type": "execute_result"
    }
   ],
   "source": [
    "knnpredict"
   ]
  },
  {
   "cell_type": "code",
   "execution_count": 88,
   "id": "3e9af8e9",
   "metadata": {},
   "outputs": [
    {
     "data": {
      "text/plain": [
       "array([[35, 25],\n",
       "       [23, 19]], dtype=int64)"
      ]
     },
     "execution_count": 88,
     "metadata": {},
     "output_type": "execute_result"
    }
   ],
   "source": [
    "confusion_matrix(y_test,knnpredict)"
   ]
  },
  {
   "cell_type": "code",
   "execution_count": 89,
   "id": "67993203",
   "metadata": {},
   "outputs": [
    {
     "data": {
      "text/plain": [
       "0.5294117647058824"
      ]
     },
     "execution_count": 89,
     "metadata": {},
     "output_type": "execute_result"
    }
   ],
   "source": [
    "accuracy_score(y_test,knnpredict)"
   ]
  },
  {
   "cell_type": "code",
   "execution_count": 90,
   "id": "9687a23f",
   "metadata": {},
   "outputs": [],
   "source": [
    "from sklearn. model_selection import GridSearchCV"
   ]
  },
  {
   "cell_type": "code",
   "execution_count": 94,
   "id": "456116cb",
   "metadata": {},
   "outputs": [],
   "source": [
    "values={'n_neighbors':[1,2,3,4,5,6,7,8,9,10]}"
   ]
  },
  {
   "cell_type": "code",
   "execution_count": 95,
   "id": "df232e0b",
   "metadata": {},
   "outputs": [],
   "source": [
    "grid=GridSearchCV(KNeighborsClassifier(),values)"
   ]
  },
  {
   "cell_type": "code",
   "execution_count": 96,
   "id": "297b3b2e",
   "metadata": {},
   "outputs": [
    {
     "data": {
      "text/html": [
       "<style>#sk-container-id-7 {color: black;}#sk-container-id-7 pre{padding: 0;}#sk-container-id-7 div.sk-toggleable {background-color: white;}#sk-container-id-7 label.sk-toggleable__label {cursor: pointer;display: block;width: 100%;margin-bottom: 0;padding: 0.3em;box-sizing: border-box;text-align: center;}#sk-container-id-7 label.sk-toggleable__label-arrow:before {content: \"▸\";float: left;margin-right: 0.25em;color: #696969;}#sk-container-id-7 label.sk-toggleable__label-arrow:hover:before {color: black;}#sk-container-id-7 div.sk-estimator:hover label.sk-toggleable__label-arrow:before {color: black;}#sk-container-id-7 div.sk-toggleable__content {max-height: 0;max-width: 0;overflow: hidden;text-align: left;background-color: #f0f8ff;}#sk-container-id-7 div.sk-toggleable__content pre {margin: 0.2em;color: black;border-radius: 0.25em;background-color: #f0f8ff;}#sk-container-id-7 input.sk-toggleable__control:checked~div.sk-toggleable__content {max-height: 200px;max-width: 100%;overflow: auto;}#sk-container-id-7 input.sk-toggleable__control:checked~label.sk-toggleable__label-arrow:before {content: \"▾\";}#sk-container-id-7 div.sk-estimator input.sk-toggleable__control:checked~label.sk-toggleable__label {background-color: #d4ebff;}#sk-container-id-7 div.sk-label input.sk-toggleable__control:checked~label.sk-toggleable__label {background-color: #d4ebff;}#sk-container-id-7 input.sk-hidden--visually {border: 0;clip: rect(1px 1px 1px 1px);clip: rect(1px, 1px, 1px, 1px);height: 1px;margin: -1px;overflow: hidden;padding: 0;position: absolute;width: 1px;}#sk-container-id-7 div.sk-estimator {font-family: monospace;background-color: #f0f8ff;border: 1px dotted black;border-radius: 0.25em;box-sizing: border-box;margin-bottom: 0.5em;}#sk-container-id-7 div.sk-estimator:hover {background-color: #d4ebff;}#sk-container-id-7 div.sk-parallel-item::after {content: \"\";width: 100%;border-bottom: 1px solid gray;flex-grow: 1;}#sk-container-id-7 div.sk-label:hover label.sk-toggleable__label {background-color: #d4ebff;}#sk-container-id-7 div.sk-serial::before {content: \"\";position: absolute;border-left: 1px solid gray;box-sizing: border-box;top: 0;bottom: 0;left: 50%;z-index: 0;}#sk-container-id-7 div.sk-serial {display: flex;flex-direction: column;align-items: center;background-color: white;padding-right: 0.2em;padding-left: 0.2em;position: relative;}#sk-container-id-7 div.sk-item {position: relative;z-index: 1;}#sk-container-id-7 div.sk-parallel {display: flex;align-items: stretch;justify-content: center;background-color: white;position: relative;}#sk-container-id-7 div.sk-item::before, #sk-container-id-7 div.sk-parallel-item::before {content: \"\";position: absolute;border-left: 1px solid gray;box-sizing: border-box;top: 0;bottom: 0;left: 50%;z-index: -1;}#sk-container-id-7 div.sk-parallel-item {display: flex;flex-direction: column;z-index: 1;position: relative;background-color: white;}#sk-container-id-7 div.sk-parallel-item:first-child::after {align-self: flex-end;width: 50%;}#sk-container-id-7 div.sk-parallel-item:last-child::after {align-self: flex-start;width: 50%;}#sk-container-id-7 div.sk-parallel-item:only-child::after {width: 0;}#sk-container-id-7 div.sk-dashed-wrapped {border: 1px dashed gray;margin: 0 0.4em 0.5em 0.4em;box-sizing: border-box;padding-bottom: 0.4em;background-color: white;}#sk-container-id-7 div.sk-label label {font-family: monospace;font-weight: bold;display: inline-block;line-height: 1.2em;}#sk-container-id-7 div.sk-label-container {text-align: center;}#sk-container-id-7 div.sk-container {/* jupyter's `normalize.less` sets `[hidden] { display: none; }` but bootstrap.min.css set `[hidden] { display: none !important; }` so we also need the `!important` here to be able to override the default hidden behavior on the sphinx rendered scikit-learn.org. See: https://github.com/scikit-learn/scikit-learn/issues/21755 */display: inline-block !important;position: relative;}#sk-container-id-7 div.sk-text-repr-fallback {display: none;}</style><div id=\"sk-container-id-7\" class=\"sk-top-container\"><div class=\"sk-text-repr-fallback\"><pre>GridSearchCV(estimator=KNeighborsClassifier(),\n",
       "             param_grid={&#x27;n_neighbors&#x27;: [1, 2, 3, 4, 5, 6, 7, 8, 9, 10]})</pre><b>In a Jupyter environment, please rerun this cell to show the HTML representation or trust the notebook. <br />On GitHub, the HTML representation is unable to render, please try loading this page with nbviewer.org.</b></div><div class=\"sk-container\" hidden><div class=\"sk-item sk-dashed-wrapped\"><div class=\"sk-label-container\"><div class=\"sk-label sk-toggleable\"><input class=\"sk-toggleable__control sk-hidden--visually\" id=\"sk-estimator-id-7\" type=\"checkbox\" ><label for=\"sk-estimator-id-7\" class=\"sk-toggleable__label sk-toggleable__label-arrow\">GridSearchCV</label><div class=\"sk-toggleable__content\"><pre>GridSearchCV(estimator=KNeighborsClassifier(),\n",
       "             param_grid={&#x27;n_neighbors&#x27;: [1, 2, 3, 4, 5, 6, 7, 8, 9, 10]})</pre></div></div></div><div class=\"sk-parallel\"><div class=\"sk-parallel-item\"><div class=\"sk-item\"><div class=\"sk-label-container\"><div class=\"sk-label sk-toggleable\"><input class=\"sk-toggleable__control sk-hidden--visually\" id=\"sk-estimator-id-8\" type=\"checkbox\" ><label for=\"sk-estimator-id-8\" class=\"sk-toggleable__label sk-toggleable__label-arrow\">estimator: KNeighborsClassifier</label><div class=\"sk-toggleable__content\"><pre>KNeighborsClassifier()</pre></div></div></div><div class=\"sk-serial\"><div class=\"sk-item\"><div class=\"sk-estimator sk-toggleable\"><input class=\"sk-toggleable__control sk-hidden--visually\" id=\"sk-estimator-id-9\" type=\"checkbox\" ><label for=\"sk-estimator-id-9\" class=\"sk-toggleable__label sk-toggleable__label-arrow\">KNeighborsClassifier</label><div class=\"sk-toggleable__content\"><pre>KNeighborsClassifier()</pre></div></div></div></div></div></div></div></div></div></div>"
      ],
      "text/plain": [
       "GridSearchCV(estimator=KNeighborsClassifier(),\n",
       "             param_grid={'n_neighbors': [1, 2, 3, 4, 5, 6, 7, 8, 9, 10]})"
      ]
     },
     "execution_count": 96,
     "metadata": {},
     "output_type": "execute_result"
    }
   ],
   "source": [
    "grid.fit(trainscaler,y_train)"
   ]
  },
  {
   "cell_type": "code",
   "execution_count": 97,
   "id": "4da8921a",
   "metadata": {},
   "outputs": [
    {
     "data": {
      "text/plain": [
       "{'n_neighbors': 10}"
      ]
     },
     "execution_count": 97,
     "metadata": {},
     "output_type": "execute_result"
    }
   ],
   "source": [
    "grid.best_params_"
   ]
  },
  {
   "cell_type": "code",
   "execution_count": 98,
   "id": "f2bf8cf8",
   "metadata": {},
   "outputs": [
    {
     "data": {
      "text/plain": [
       "array([[35, 25],\n",
       "       [23, 19]], dtype=int64)"
      ]
     },
     "execution_count": 98,
     "metadata": {},
     "output_type": "execute_result"
    }
   ],
   "source": [
    "confusion_matrix(y_test,knnpredict)"
   ]
  },
  {
   "cell_type": "code",
   "execution_count": 99,
   "id": "38fd9644",
   "metadata": {},
   "outputs": [
    {
     "data": {
      "text/plain": [
       "0.5294117647058824"
      ]
     },
     "execution_count": 99,
     "metadata": {},
     "output_type": "execute_result"
    }
   ],
   "source": [
    "accuracy_score(y_test,knnpredict)"
   ]
  },
  {
   "cell_type": "code",
   "execution_count": null,
   "id": "4daba9e0",
   "metadata": {},
   "outputs": [],
   "source": []
  }
 ],
 "metadata": {
  "kernelspec": {
   "display_name": "Python 3 (ipykernel)",
   "language": "python",
   "name": "python3"
  },
  "language_info": {
   "codemirror_mode": {
    "name": "ipython",
    "version": 3
   },
   "file_extension": ".py",
   "mimetype": "text/x-python",
   "name": "python",
   "nbconvert_exporter": "python",
   "pygments_lexer": "ipython3",
   "version": "3.11.5"
  }
 },
 "nbformat": 4,
 "nbformat_minor": 5
}
